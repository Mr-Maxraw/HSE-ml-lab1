{
 "nbformat": 4,
 "nbformat_minor": 2,
 "metadata": {
  "language_info": {
   "name": "python",
   "codemirror_mode": {
    "name": "ipython",
    "version": 3
   },
   "version": "3.8.2-final"
  },
  "orig_nbformat": 2,
  "file_extension": ".py",
  "mimetype": "text/x-python",
  "name": "python",
  "npconvert_exporter": "python",
  "pygments_lexer": "ipython3",
  "version": 3,
  "kernelspec": {
   "name": "python38232bitda19b69bb52d4b8e9c464f3c4bd6d123",
   "display_name": "Python 3.8.2 32-bit"
  }
 },
 "cells": [
  {
   "cell_type": "code",
   "execution_count": 36,
   "metadata": {},
   "outputs": [],
   "source": [
    "import pandas as pd\n",
    "import numpy as np"
   ]
  },
  {
   "cell_type": "code",
   "execution_count": 37,
   "metadata": {},
   "outputs": [
    {
     "output_type": "execute_result",
     "data": {
      "text/plain": "        CustomerID  Restaurant      RKDate                    RegionName  \\\n0          2898197         391  2017-07-16  Москва и Московская область    \n1          2903215          43  2015-04-07  Москва и Московская область    \n2          2748887          43  2015-05-22  Москва и Московская область    \n3          2862077          46  2015-03-05  Москва и Московская область    \n4          2862077          46  2015-03-11  Москва и Московская область    \n...            ...         ...         ...                           ...   \n882217     2811717         922  2016-01-07  Москва и Московская область    \n882218     2811717         922  2016-01-07  Москва и Московская область    \n882219     2811717         922  2016-01-07  Москва и Московская область    \n882220     2811717         922  2016-01-07  Москва и Московская область    \n882221     2811717         922  2016-01-07  Москва и Московская область    \n\n                  BrandsNames DishCategoryName  Quantity  SummBasic  \\\n0                 TGI FRIDAYS      NON ALCOHOL         2       2.00   \n1                    IL Патио      NON ALCOHOL         1       5.00   \n2                    IL Патио      NON ALCOHOL         1       5.00   \n3                    IL Патио      NON ALCOHOL         1       5.00   \n4                    IL Патио      NON ALCOHOL         1       5.00   \n...                       ...              ...       ...        ...   \n882217  IL Патио,Планета Суши             FOOD         1      57.67   \n882218  IL Патио,Планета Суши             FOOD         1      57.67   \n882219  IL Патио,Планета Суши             FOOD         1      57.67   \n882220  IL Патио,Планета Суши             FOOD         1      57.67   \n882221  IL Патио,Планета Суши             FOOD         1      57.67   \n\n        SummAfterPointsUsage  \n0                       2.00  \n1                       5.00  \n2                       5.00  \n3                       5.00  \n4                       5.00  \n...                      ...  \n882217                 57.67  \n882218                 57.67  \n882219                 57.67  \n882220                 57.67  \n882221                 57.67  \n\n[882222 rows x 9 columns]",
      "text/html": "<div>\n<style scoped>\n    .dataframe tbody tr th:only-of-type {\n        vertical-align: middle;\n    }\n\n    .dataframe tbody tr th {\n        vertical-align: top;\n    }\n\n    .dataframe thead th {\n        text-align: right;\n    }\n</style>\n<table border=\"1\" class=\"dataframe\">\n  <thead>\n    <tr style=\"text-align: right;\">\n      <th></th>\n      <th>CustomerID</th>\n      <th>Restaurant</th>\n      <th>RKDate</th>\n      <th>RegionName</th>\n      <th>BrandsNames</th>\n      <th>DishCategoryName</th>\n      <th>Quantity</th>\n      <th>SummBasic</th>\n      <th>SummAfterPointsUsage</th>\n    </tr>\n  </thead>\n  <tbody>\n    <tr>\n      <th>0</th>\n      <td>2898197</td>\n      <td>391</td>\n      <td>2017-07-16</td>\n      <td>Москва и Московская область</td>\n      <td>TGI FRIDAYS</td>\n      <td>NON ALCOHOL</td>\n      <td>2</td>\n      <td>2.00</td>\n      <td>2.00</td>\n    </tr>\n    <tr>\n      <th>1</th>\n      <td>2903215</td>\n      <td>43</td>\n      <td>2015-04-07</td>\n      <td>Москва и Московская область</td>\n      <td>IL Патио</td>\n      <td>NON ALCOHOL</td>\n      <td>1</td>\n      <td>5.00</td>\n      <td>5.00</td>\n    </tr>\n    <tr>\n      <th>2</th>\n      <td>2748887</td>\n      <td>43</td>\n      <td>2015-05-22</td>\n      <td>Москва и Московская область</td>\n      <td>IL Патио</td>\n      <td>NON ALCOHOL</td>\n      <td>1</td>\n      <td>5.00</td>\n      <td>5.00</td>\n    </tr>\n    <tr>\n      <th>3</th>\n      <td>2862077</td>\n      <td>46</td>\n      <td>2015-03-05</td>\n      <td>Москва и Московская область</td>\n      <td>IL Патио</td>\n      <td>NON ALCOHOL</td>\n      <td>1</td>\n      <td>5.00</td>\n      <td>5.00</td>\n    </tr>\n    <tr>\n      <th>4</th>\n      <td>2862077</td>\n      <td>46</td>\n      <td>2015-03-11</td>\n      <td>Москва и Московская область</td>\n      <td>IL Патио</td>\n      <td>NON ALCOHOL</td>\n      <td>1</td>\n      <td>5.00</td>\n      <td>5.00</td>\n    </tr>\n    <tr>\n      <th>...</th>\n      <td>...</td>\n      <td>...</td>\n      <td>...</td>\n      <td>...</td>\n      <td>...</td>\n      <td>...</td>\n      <td>...</td>\n      <td>...</td>\n      <td>...</td>\n    </tr>\n    <tr>\n      <th>882217</th>\n      <td>2811717</td>\n      <td>922</td>\n      <td>2016-01-07</td>\n      <td>Москва и Московская область</td>\n      <td>IL Патио,Планета Суши</td>\n      <td>FOOD</td>\n      <td>1</td>\n      <td>57.67</td>\n      <td>57.67</td>\n    </tr>\n    <tr>\n      <th>882218</th>\n      <td>2811717</td>\n      <td>922</td>\n      <td>2016-01-07</td>\n      <td>Москва и Московская область</td>\n      <td>IL Патио,Планета Суши</td>\n      <td>FOOD</td>\n      <td>1</td>\n      <td>57.67</td>\n      <td>57.67</td>\n    </tr>\n    <tr>\n      <th>882219</th>\n      <td>2811717</td>\n      <td>922</td>\n      <td>2016-01-07</td>\n      <td>Москва и Московская область</td>\n      <td>IL Патио,Планета Суши</td>\n      <td>FOOD</td>\n      <td>1</td>\n      <td>57.67</td>\n      <td>57.67</td>\n    </tr>\n    <tr>\n      <th>882220</th>\n      <td>2811717</td>\n      <td>922</td>\n      <td>2016-01-07</td>\n      <td>Москва и Московская область</td>\n      <td>IL Патио,Планета Суши</td>\n      <td>FOOD</td>\n      <td>1</td>\n      <td>57.67</td>\n      <td>57.67</td>\n    </tr>\n    <tr>\n      <th>882221</th>\n      <td>2811717</td>\n      <td>922</td>\n      <td>2016-01-07</td>\n      <td>Москва и Московская область</td>\n      <td>IL Патио,Планета Суши</td>\n      <td>FOOD</td>\n      <td>1</td>\n      <td>57.67</td>\n      <td>57.67</td>\n    </tr>\n  </tbody>\n</table>\n<p>882222 rows × 9 columns</p>\n</div>"
     },
     "metadata": {},
     "execution_count": 37
    }
   ],
   "source": [
    "bdf = pd.read_csv('resto-asap2018\\casc-resto-small.csv', sep = ',')\n",
    "df =  pd.read_csv('resto-asap2018\\casc-resto.csv', sep = ';', decimal = ',')\n",
    "df"
   ]
  },
  {
   "cell_type": "code",
   "execution_count": 38,
   "metadata": {},
   "outputs": [
    {
     "output_type": "execute_result",
     "data": {
      "text/plain": "      CustomerID ActivationDate    Age     Sex  SubscribedEmail  \\\n0        2728183     2015-01-01   21.0  Female            False   \n1        2728198     2015-01-01   21.0  Female             True   \n2        2728306     2015-01-01   21.0  Female             True   \n3        2728178     2015-01-01   22.0    Male             True   \n4        2728322     2015-01-01   22.0    Male             True   \n...          ...            ...    ...     ...              ...   \n9995     2912655     2015-03-31   49.0  Female             True   \n9996     2912502     2015-03-31   52.0    Male             True   \n9997     2912767     2015-03-31   52.0    Male             True   \n9998     2912383     2015-03-31   60.0    Male            False   \n9999     2912304     2015-03-31  118.0     NaN            False   \n\n      SubscribedPush  \n0               True  \n1               True  \n2               True  \n3               True  \n4               True  \n...              ...  \n9995            True  \n9996            True  \n9997           False  \n9998           False  \n9999            True  \n\n[10000 rows x 6 columns]",
      "text/html": "<div>\n<style scoped>\n    .dataframe tbody tr th:only-of-type {\n        vertical-align: middle;\n    }\n\n    .dataframe tbody tr th {\n        vertical-align: top;\n    }\n\n    .dataframe thead th {\n        text-align: right;\n    }\n</style>\n<table border=\"1\" class=\"dataframe\">\n  <thead>\n    <tr style=\"text-align: right;\">\n      <th></th>\n      <th>CustomerID</th>\n      <th>ActivationDate</th>\n      <th>Age</th>\n      <th>Sex</th>\n      <th>SubscribedEmail</th>\n      <th>SubscribedPush</th>\n    </tr>\n  </thead>\n  <tbody>\n    <tr>\n      <th>0</th>\n      <td>2728183</td>\n      <td>2015-01-01</td>\n      <td>21.0</td>\n      <td>Female</td>\n      <td>False</td>\n      <td>True</td>\n    </tr>\n    <tr>\n      <th>1</th>\n      <td>2728198</td>\n      <td>2015-01-01</td>\n      <td>21.0</td>\n      <td>Female</td>\n      <td>True</td>\n      <td>True</td>\n    </tr>\n    <tr>\n      <th>2</th>\n      <td>2728306</td>\n      <td>2015-01-01</td>\n      <td>21.0</td>\n      <td>Female</td>\n      <td>True</td>\n      <td>True</td>\n    </tr>\n    <tr>\n      <th>3</th>\n      <td>2728178</td>\n      <td>2015-01-01</td>\n      <td>22.0</td>\n      <td>Male</td>\n      <td>True</td>\n      <td>True</td>\n    </tr>\n    <tr>\n      <th>4</th>\n      <td>2728322</td>\n      <td>2015-01-01</td>\n      <td>22.0</td>\n      <td>Male</td>\n      <td>True</td>\n      <td>True</td>\n    </tr>\n    <tr>\n      <th>...</th>\n      <td>...</td>\n      <td>...</td>\n      <td>...</td>\n      <td>...</td>\n      <td>...</td>\n      <td>...</td>\n    </tr>\n    <tr>\n      <th>9995</th>\n      <td>2912655</td>\n      <td>2015-03-31</td>\n      <td>49.0</td>\n      <td>Female</td>\n      <td>True</td>\n      <td>True</td>\n    </tr>\n    <tr>\n      <th>9996</th>\n      <td>2912502</td>\n      <td>2015-03-31</td>\n      <td>52.0</td>\n      <td>Male</td>\n      <td>True</td>\n      <td>True</td>\n    </tr>\n    <tr>\n      <th>9997</th>\n      <td>2912767</td>\n      <td>2015-03-31</td>\n      <td>52.0</td>\n      <td>Male</td>\n      <td>True</td>\n      <td>False</td>\n    </tr>\n    <tr>\n      <th>9998</th>\n      <td>2912383</td>\n      <td>2015-03-31</td>\n      <td>60.0</td>\n      <td>Male</td>\n      <td>False</td>\n      <td>False</td>\n    </tr>\n    <tr>\n      <th>9999</th>\n      <td>2912304</td>\n      <td>2015-03-31</td>\n      <td>118.0</td>\n      <td>NaN</td>\n      <td>False</td>\n      <td>True</td>\n    </tr>\n  </tbody>\n</table>\n<p>10000 rows × 6 columns</p>\n</div>"
     },
     "metadata": {},
     "execution_count": 38
    }
   ],
   "source": [
    "cos = pd.read_csv('resto-asap2018\\CASC_Constant.csv', sep = ',')\n",
    "cos = cos.rename(columns = {'CustomerId' : 'CustomerID'})\n",
    "cos"
   ]
  },
  {
   "cell_type": "code",
   "execution_count": 39,
   "metadata": {},
   "outputs": [
    {
     "output_type": "execute_result",
     "data": {
      "text/plain": "        CustomerID  Restaurant      RKDate                    RegionName  \\\n1          2903215          43  2015-04-07  Москва и Московская область    \n2          2748887          43  2015-05-22  Москва и Московская область    \n3          2862077          46  2015-03-05  Москва и Московская область    \n4          2862077          46  2015-03-11  Москва и Московская область    \n5          2862077          46  2015-03-13  Москва и Московская область    \n...            ...         ...         ...                           ...   \n882217     2811717         922  2016-01-07  Москва и Московская область    \n882218     2811717         922  2016-01-07  Москва и Московская область    \n882219     2811717         922  2016-01-07  Москва и Московская область    \n882220     2811717         922  2016-01-07  Москва и Московская область    \n882221     2811717         922  2016-01-07  Москва и Московская область    \n\n                  BrandsNames DishCategoryName  Quantity  SummBasic  \\\n1                    IL Патио      NON ALCOHOL         1       5.00   \n2                    IL Патио      NON ALCOHOL         1       5.00   \n3                    IL Патио      NON ALCOHOL         1       5.00   \n4                    IL Патио      NON ALCOHOL         1       5.00   \n5                    IL Патио      NON ALCOHOL         1       5.00   \n...                       ...              ...       ...        ...   \n882217  IL Патио,Планета Суши             FOOD         1      57.67   \n882218  IL Патио,Планета Суши             FOOD         1      57.67   \n882219  IL Патио,Планета Суши             FOOD         1      57.67   \n882220  IL Патио,Планета Суши             FOOD         1      57.67   \n882221  IL Патио,Планета Суши             FOOD         1      57.67   \n\n        SummAfterPointsUsage  \n1                       5.00  \n2                       5.00  \n3                       5.00  \n4                       5.00  \n5                       5.00  \n...                      ...  \n882217                 57.67  \n882218                 57.67  \n882219                 57.67  \n882220                 57.67  \n882221                 57.67  \n\n[792441 rows x 9 columns]",
      "text/html": "<div>\n<style scoped>\n    .dataframe tbody tr th:only-of-type {\n        vertical-align: middle;\n    }\n\n    .dataframe tbody tr th {\n        vertical-align: top;\n    }\n\n    .dataframe thead th {\n        text-align: right;\n    }\n</style>\n<table border=\"1\" class=\"dataframe\">\n  <thead>\n    <tr style=\"text-align: right;\">\n      <th></th>\n      <th>CustomerID</th>\n      <th>Restaurant</th>\n      <th>RKDate</th>\n      <th>RegionName</th>\n      <th>BrandsNames</th>\n      <th>DishCategoryName</th>\n      <th>Quantity</th>\n      <th>SummBasic</th>\n      <th>SummAfterPointsUsage</th>\n    </tr>\n  </thead>\n  <tbody>\n    <tr>\n      <th>1</th>\n      <td>2903215</td>\n      <td>43</td>\n      <td>2015-04-07</td>\n      <td>Москва и Московская область</td>\n      <td>IL Патио</td>\n      <td>NON ALCOHOL</td>\n      <td>1</td>\n      <td>5.00</td>\n      <td>5.00</td>\n    </tr>\n    <tr>\n      <th>2</th>\n      <td>2748887</td>\n      <td>43</td>\n      <td>2015-05-22</td>\n      <td>Москва и Московская область</td>\n      <td>IL Патио</td>\n      <td>NON ALCOHOL</td>\n      <td>1</td>\n      <td>5.00</td>\n      <td>5.00</td>\n    </tr>\n    <tr>\n      <th>3</th>\n      <td>2862077</td>\n      <td>46</td>\n      <td>2015-03-05</td>\n      <td>Москва и Московская область</td>\n      <td>IL Патио</td>\n      <td>NON ALCOHOL</td>\n      <td>1</td>\n      <td>5.00</td>\n      <td>5.00</td>\n    </tr>\n    <tr>\n      <th>4</th>\n      <td>2862077</td>\n      <td>46</td>\n      <td>2015-03-11</td>\n      <td>Москва и Московская область</td>\n      <td>IL Патио</td>\n      <td>NON ALCOHOL</td>\n      <td>1</td>\n      <td>5.00</td>\n      <td>5.00</td>\n    </tr>\n    <tr>\n      <th>5</th>\n      <td>2862077</td>\n      <td>46</td>\n      <td>2015-03-13</td>\n      <td>Москва и Московская область</td>\n      <td>IL Патио</td>\n      <td>NON ALCOHOL</td>\n      <td>1</td>\n      <td>5.00</td>\n      <td>5.00</td>\n    </tr>\n    <tr>\n      <th>...</th>\n      <td>...</td>\n      <td>...</td>\n      <td>...</td>\n      <td>...</td>\n      <td>...</td>\n      <td>...</td>\n      <td>...</td>\n      <td>...</td>\n      <td>...</td>\n    </tr>\n    <tr>\n      <th>882217</th>\n      <td>2811717</td>\n      <td>922</td>\n      <td>2016-01-07</td>\n      <td>Москва и Московская область</td>\n      <td>IL Патио,Планета Суши</td>\n      <td>FOOD</td>\n      <td>1</td>\n      <td>57.67</td>\n      <td>57.67</td>\n    </tr>\n    <tr>\n      <th>882218</th>\n      <td>2811717</td>\n      <td>922</td>\n      <td>2016-01-07</td>\n      <td>Москва и Московская область</td>\n      <td>IL Патио,Планета Суши</td>\n      <td>FOOD</td>\n      <td>1</td>\n      <td>57.67</td>\n      <td>57.67</td>\n    </tr>\n    <tr>\n      <th>882219</th>\n      <td>2811717</td>\n      <td>922</td>\n      <td>2016-01-07</td>\n      <td>Москва и Московская область</td>\n      <td>IL Патио,Планета Суши</td>\n      <td>FOOD</td>\n      <td>1</td>\n      <td>57.67</td>\n      <td>57.67</td>\n    </tr>\n    <tr>\n      <th>882220</th>\n      <td>2811717</td>\n      <td>922</td>\n      <td>2016-01-07</td>\n      <td>Москва и Московская область</td>\n      <td>IL Патио,Планета Суши</td>\n      <td>FOOD</td>\n      <td>1</td>\n      <td>57.67</td>\n      <td>57.67</td>\n    </tr>\n    <tr>\n      <th>882221</th>\n      <td>2811717</td>\n      <td>922</td>\n      <td>2016-01-07</td>\n      <td>Москва и Московская область</td>\n      <td>IL Патио,Планета Суши</td>\n      <td>FOOD</td>\n      <td>1</td>\n      <td>57.67</td>\n      <td>57.67</td>\n    </tr>\n  </tbody>\n</table>\n<p>792441 rows × 9 columns</p>\n</div>"
     },
     "metadata": {},
     "execution_count": 39
    }
   ],
   "source": [
    "pre_grp = df[df.RKDate <= '2017-07-01']\n",
    "pre_grp"
   ]
  },
  {
   "cell_type": "code",
   "execution_count": 40,
   "metadata": {},
   "outputs": [
    {
     "output_type": "execute_result",
     "data": {
      "text/plain": "            Restaurant      RKDate                    RegionName  \\\nCustomerID                                                         \n2728046             54  2015-01-01  Москва и Московская область    \n2728088            424  2015-01-26  Москва и Московская область    \n2728089            688  2015-01-01  Москва и Московская область    \n2728095             43  2015-08-23  Москва и Московская область    \n2728107            393  2017-03-08  Москва и Московская область    \n...                ...         ...                           ...   \n2913103             94  2015-05-28  Москва и Московская область    \n2913106            127  2015-04-08  Москва и Московская область    \n2913114             55  2015-12-26  Москва и Московская область    \n2913123            929  2016-09-26  Москва и Московская область    \n2913132            728  2016-12-07  Москва и Московская область    \n\n                      BrandsNames DishCategoryName  Quantity  SummBasic  \\\nCustomerID                                                                \n2728046               TGI FRIDAYS      NON ALCOHOL         1       20.0   \n2728088                  IL Патио      NON ALCOHOL         1      120.0   \n2728089     IL Патио,Планета Суши          ALCOHOL         2      320.0   \n2728095                  IL Патио             FOOD         1       30.0   \n2728107                  IL Патио             FOOD         1       30.0   \n...                           ...              ...       ...        ...   \n2913103               TGI FRIDAYS      NON ALCOHOL         1       25.0   \n2913106                  IL Патио      NON ALCOHOL         1       30.0   \n2913114               TGI FRIDAYS      NON ALCOHOL         1       25.0   \n2913123                  IL Патио      NON ALCOHOL         1       25.0   \n2913132                  IL Патио             FOOD         1      289.0   \n\n            SummAfterPointsUsage  \nCustomerID                        \n2728046                    20.00  \n2728088                   120.00  \n2728089                   320.00  \n2728095                    22.40  \n2728107                    25.45  \n...                          ...  \n2913103                    25.00  \n2913106                    30.00  \n2913114                    25.00  \n2913123                    25.00  \n2913132                   289.00  \n\n[9939 rows x 8 columns]",
      "text/html": "<div>\n<style scoped>\n    .dataframe tbody tr th:only-of-type {\n        vertical-align: middle;\n    }\n\n    .dataframe tbody tr th {\n        vertical-align: top;\n    }\n\n    .dataframe thead th {\n        text-align: right;\n    }\n</style>\n<table border=\"1\" class=\"dataframe\">\n  <thead>\n    <tr style=\"text-align: right;\">\n      <th></th>\n      <th>Restaurant</th>\n      <th>RKDate</th>\n      <th>RegionName</th>\n      <th>BrandsNames</th>\n      <th>DishCategoryName</th>\n      <th>Quantity</th>\n      <th>SummBasic</th>\n      <th>SummAfterPointsUsage</th>\n    </tr>\n    <tr>\n      <th>CustomerID</th>\n      <th></th>\n      <th></th>\n      <th></th>\n      <th></th>\n      <th></th>\n      <th></th>\n      <th></th>\n      <th></th>\n    </tr>\n  </thead>\n  <tbody>\n    <tr>\n      <th>2728046</th>\n      <td>54</td>\n      <td>2015-01-01</td>\n      <td>Москва и Московская область</td>\n      <td>TGI FRIDAYS</td>\n      <td>NON ALCOHOL</td>\n      <td>1</td>\n      <td>20.0</td>\n      <td>20.00</td>\n    </tr>\n    <tr>\n      <th>2728088</th>\n      <td>424</td>\n      <td>2015-01-26</td>\n      <td>Москва и Московская область</td>\n      <td>IL Патио</td>\n      <td>NON ALCOHOL</td>\n      <td>1</td>\n      <td>120.0</td>\n      <td>120.00</td>\n    </tr>\n    <tr>\n      <th>2728089</th>\n      <td>688</td>\n      <td>2015-01-01</td>\n      <td>Москва и Московская область</td>\n      <td>IL Патио,Планета Суши</td>\n      <td>ALCOHOL</td>\n      <td>2</td>\n      <td>320.0</td>\n      <td>320.00</td>\n    </tr>\n    <tr>\n      <th>2728095</th>\n      <td>43</td>\n      <td>2015-08-23</td>\n      <td>Москва и Московская область</td>\n      <td>IL Патио</td>\n      <td>FOOD</td>\n      <td>1</td>\n      <td>30.0</td>\n      <td>22.40</td>\n    </tr>\n    <tr>\n      <th>2728107</th>\n      <td>393</td>\n      <td>2017-03-08</td>\n      <td>Москва и Московская область</td>\n      <td>IL Патио</td>\n      <td>FOOD</td>\n      <td>1</td>\n      <td>30.0</td>\n      <td>25.45</td>\n    </tr>\n    <tr>\n      <th>...</th>\n      <td>...</td>\n      <td>...</td>\n      <td>...</td>\n      <td>...</td>\n      <td>...</td>\n      <td>...</td>\n      <td>...</td>\n      <td>...</td>\n    </tr>\n    <tr>\n      <th>2913103</th>\n      <td>94</td>\n      <td>2015-05-28</td>\n      <td>Москва и Московская область</td>\n      <td>TGI FRIDAYS</td>\n      <td>NON ALCOHOL</td>\n      <td>1</td>\n      <td>25.0</td>\n      <td>25.00</td>\n    </tr>\n    <tr>\n      <th>2913106</th>\n      <td>127</td>\n      <td>2015-04-08</td>\n      <td>Москва и Московская область</td>\n      <td>IL Патио</td>\n      <td>NON ALCOHOL</td>\n      <td>1</td>\n      <td>30.0</td>\n      <td>30.00</td>\n    </tr>\n    <tr>\n      <th>2913114</th>\n      <td>55</td>\n      <td>2015-12-26</td>\n      <td>Москва и Московская область</td>\n      <td>TGI FRIDAYS</td>\n      <td>NON ALCOHOL</td>\n      <td>1</td>\n      <td>25.0</td>\n      <td>25.00</td>\n    </tr>\n    <tr>\n      <th>2913123</th>\n      <td>929</td>\n      <td>2016-09-26</td>\n      <td>Москва и Московская область</td>\n      <td>IL Патио</td>\n      <td>NON ALCOHOL</td>\n      <td>1</td>\n      <td>25.0</td>\n      <td>25.00</td>\n    </tr>\n    <tr>\n      <th>2913132</th>\n      <td>728</td>\n      <td>2016-12-07</td>\n      <td>Москва и Московская область</td>\n      <td>IL Патио</td>\n      <td>FOOD</td>\n      <td>1</td>\n      <td>289.0</td>\n      <td>289.00</td>\n    </tr>\n  </tbody>\n</table>\n<p>9939 rows × 8 columns</p>\n</div>"
     },
     "metadata": {},
     "execution_count": 40
    }
   ],
   "source": [
    "user_grp = pre_grp.groupby(['CustomerID'])\n",
    "user_grp.first()"
   ]
  },
  {
   "cell_type": "code",
   "execution_count": 41,
   "metadata": {},
   "outputs": [
    {
     "output_type": "execute_result",
     "data": {
      "text/plain": "        CustomerID  Restaurant      RKDate                    RegionName  \\\n0          2898197         391  2017-07-16  Москва и Московская область    \n209        2767598         450  2017-11-22  Москва и Московская область    \n271        2910374          43  2017-07-06  Москва и Московская область    \n322        2743625          46  2017-11-07  Москва и Московская область    \n417        2751226          49  2017-08-03  Москва и Московская область    \n...            ...         ...         ...                           ...   \n882163     2764432         387  2017-07-15  Москва и Московская область    \n882167     2876335         449  2017-11-07  Москва и Московская область    \n882171     2877236         387  2017-12-09  Москва и Московская область    \n882173     2786174         903  2017-11-01  Москва и Московская область    \n882196     2735937         925  2017-08-03  Москва и Московская область    \n\n                  BrandsNames DishCategoryName  Quantity  SummBasic  \\\n0                 TGI FRIDAYS      NON ALCOHOL         2        2.0   \n209                 Мама Раша             FOOD         1        9.0   \n271                  IL Патио             FOOD         1       10.0   \n322                  IL Патио             FOOD         1       10.0   \n417                  IL Патио             FOOD         1       10.0   \n...                       ...              ...       ...        ...   \n882163            TGI FRIDAYS          ALCOHOL         6     2814.0   \n882167            TGI FRIDAYS             FOOD         6     2814.0   \n882171            TGI FRIDAYS             FOOD         3     2175.0   \n882173               IL Патио             FOOD         3     2175.0   \n882196  IL Патио,Планета Суши          ALCOHOL         1     1399.9   \n\n        SummAfterPointsUsage  Y  \n0                       2.00  1  \n209                     7.00  1  \n271                    10.00  1  \n322                    10.00  1  \n417                     8.92  1  \n...                      ... ..  \n882163               2608.75  1  \n882167               2669.81  1  \n882171               1728.87  1  \n882173               2124.37  1  \n882196               1399.90  1  \n\n[89781 rows x 10 columns]",
      "text/html": "<div>\n<style scoped>\n    .dataframe tbody tr th:only-of-type {\n        vertical-align: middle;\n    }\n\n    .dataframe tbody tr th {\n        vertical-align: top;\n    }\n\n    .dataframe thead th {\n        text-align: right;\n    }\n</style>\n<table border=\"1\" class=\"dataframe\">\n  <thead>\n    <tr style=\"text-align: right;\">\n      <th></th>\n      <th>CustomerID</th>\n      <th>Restaurant</th>\n      <th>RKDate</th>\n      <th>RegionName</th>\n      <th>BrandsNames</th>\n      <th>DishCategoryName</th>\n      <th>Quantity</th>\n      <th>SummBasic</th>\n      <th>SummAfterPointsUsage</th>\n      <th>Y</th>\n    </tr>\n  </thead>\n  <tbody>\n    <tr>\n      <th>0</th>\n      <td>2898197</td>\n      <td>391</td>\n      <td>2017-07-16</td>\n      <td>Москва и Московская область</td>\n      <td>TGI FRIDAYS</td>\n      <td>NON ALCOHOL</td>\n      <td>2</td>\n      <td>2.0</td>\n      <td>2.00</td>\n      <td>1</td>\n    </tr>\n    <tr>\n      <th>209</th>\n      <td>2767598</td>\n      <td>450</td>\n      <td>2017-11-22</td>\n      <td>Москва и Московская область</td>\n      <td>Мама Раша</td>\n      <td>FOOD</td>\n      <td>1</td>\n      <td>9.0</td>\n      <td>7.00</td>\n      <td>1</td>\n    </tr>\n    <tr>\n      <th>271</th>\n      <td>2910374</td>\n      <td>43</td>\n      <td>2017-07-06</td>\n      <td>Москва и Московская область</td>\n      <td>IL Патио</td>\n      <td>FOOD</td>\n      <td>1</td>\n      <td>10.0</td>\n      <td>10.00</td>\n      <td>1</td>\n    </tr>\n    <tr>\n      <th>322</th>\n      <td>2743625</td>\n      <td>46</td>\n      <td>2017-11-07</td>\n      <td>Москва и Московская область</td>\n      <td>IL Патио</td>\n      <td>FOOD</td>\n      <td>1</td>\n      <td>10.0</td>\n      <td>10.00</td>\n      <td>1</td>\n    </tr>\n    <tr>\n      <th>417</th>\n      <td>2751226</td>\n      <td>49</td>\n      <td>2017-08-03</td>\n      <td>Москва и Московская область</td>\n      <td>IL Патио</td>\n      <td>FOOD</td>\n      <td>1</td>\n      <td>10.0</td>\n      <td>8.92</td>\n      <td>1</td>\n    </tr>\n    <tr>\n      <th>...</th>\n      <td>...</td>\n      <td>...</td>\n      <td>...</td>\n      <td>...</td>\n      <td>...</td>\n      <td>...</td>\n      <td>...</td>\n      <td>...</td>\n      <td>...</td>\n      <td>...</td>\n    </tr>\n    <tr>\n      <th>882163</th>\n      <td>2764432</td>\n      <td>387</td>\n      <td>2017-07-15</td>\n      <td>Москва и Московская область</td>\n      <td>TGI FRIDAYS</td>\n      <td>ALCOHOL</td>\n      <td>6</td>\n      <td>2814.0</td>\n      <td>2608.75</td>\n      <td>1</td>\n    </tr>\n    <tr>\n      <th>882167</th>\n      <td>2876335</td>\n      <td>449</td>\n      <td>2017-11-07</td>\n      <td>Москва и Московская область</td>\n      <td>TGI FRIDAYS</td>\n      <td>FOOD</td>\n      <td>6</td>\n      <td>2814.0</td>\n      <td>2669.81</td>\n      <td>1</td>\n    </tr>\n    <tr>\n      <th>882171</th>\n      <td>2877236</td>\n      <td>387</td>\n      <td>2017-12-09</td>\n      <td>Москва и Московская область</td>\n      <td>TGI FRIDAYS</td>\n      <td>FOOD</td>\n      <td>3</td>\n      <td>2175.0</td>\n      <td>1728.87</td>\n      <td>1</td>\n    </tr>\n    <tr>\n      <th>882173</th>\n      <td>2786174</td>\n      <td>903</td>\n      <td>2017-11-01</td>\n      <td>Москва и Московская область</td>\n      <td>IL Патио</td>\n      <td>FOOD</td>\n      <td>3</td>\n      <td>2175.0</td>\n      <td>2124.37</td>\n      <td>1</td>\n    </tr>\n    <tr>\n      <th>882196</th>\n      <td>2735937</td>\n      <td>925</td>\n      <td>2017-08-03</td>\n      <td>Москва и Московская область</td>\n      <td>IL Патио,Планета Суши</td>\n      <td>ALCOHOL</td>\n      <td>1</td>\n      <td>1399.9</td>\n      <td>1399.90</td>\n      <td>1</td>\n    </tr>\n  </tbody>\n</table>\n<p>89781 rows × 10 columns</p>\n</div>"
     },
     "metadata": {},
     "execution_count": 41
    }
   ],
   "source": [
    "y_cnt = df[(df.RKDate > '2017-07-01') & (df.RKDate <= '2017-12-31')]\n",
    "y = []\n",
    "for i in range(len(y_cnt)):\n",
    "    y.append(1)\n",
    "y_cnt['Y'] = y\n",
    "y_cnt"
   ]
  },
  {
   "cell_type": "code",
   "execution_count": 42,
   "metadata": {},
   "outputs": [
    {
     "output_type": "execute_result",
     "data": {
      "text/plain": "        CustomerID  Restaurant      RKDate                    RegionName  \\\n0          2898197         391  2017-07-16  Москва и Московская область    \n1          2767598         450  2017-11-22  Москва и Московская область    \n2          2910374          43  2017-07-06  Москва и Московская область    \n3          2743625          46  2017-11-07  Москва и Московская область    \n4          2751226          49  2017-08-03  Москва и Московская область    \n...            ...         ...         ...                           ...   \n906649     2811717         922  2016-01-07  Москва и Московская область    \n906650     2811717         922  2016-01-07  Москва и Московская область    \n906651     2811717         922  2016-01-07  Москва и Московская область    \n906652     2811717         922  2016-01-07  Москва и Московская область    \n906653     2811717         922  2016-01-07  Москва и Московская область    \n\n                  BrandsNames DishCategoryName  Quantity  SummBasic  \\\n0                 TGI FRIDAYS      NON ALCOHOL         2       2.00   \n1                   Мама Раша             FOOD         1       9.00   \n2                    IL Патио             FOOD         1      10.00   \n3                    IL Патио             FOOD         1      10.00   \n4                    IL Патио             FOOD         1      10.00   \n...                       ...              ...       ...        ...   \n906649  IL Патио,Планета Суши             FOOD         1      57.67   \n906650  IL Патио,Планета Суши             FOOD         1      57.67   \n906651  IL Патио,Планета Суши             FOOD         1      57.67   \n906652  IL Патио,Планета Суши             FOOD         1      57.67   \n906653  IL Патио,Планета Суши             FOOD         1      57.67   \n\n        SummAfterPointsUsage    Y  \n0                       2.00  1.0  \n1                       7.00  1.0  \n2                      10.00  1.0  \n3                      10.00  1.0  \n4                       8.92  1.0  \n...                      ...  ...  \n906649                 57.67  0.0  \n906650                 57.67  0.0  \n906651                 57.67  0.0  \n906652                 57.67  0.0  \n906653                 57.67  0.0  \n\n[906654 rows x 10 columns]",
      "text/html": "<div>\n<style scoped>\n    .dataframe tbody tr th:only-of-type {\n        vertical-align: middle;\n    }\n\n    .dataframe tbody tr th {\n        vertical-align: top;\n    }\n\n    .dataframe thead th {\n        text-align: right;\n    }\n</style>\n<table border=\"1\" class=\"dataframe\">\n  <thead>\n    <tr style=\"text-align: right;\">\n      <th></th>\n      <th>CustomerID</th>\n      <th>Restaurant</th>\n      <th>RKDate</th>\n      <th>RegionName</th>\n      <th>BrandsNames</th>\n      <th>DishCategoryName</th>\n      <th>Quantity</th>\n      <th>SummBasic</th>\n      <th>SummAfterPointsUsage</th>\n      <th>Y</th>\n    </tr>\n  </thead>\n  <tbody>\n    <tr>\n      <th>0</th>\n      <td>2898197</td>\n      <td>391</td>\n      <td>2017-07-16</td>\n      <td>Москва и Московская область</td>\n      <td>TGI FRIDAYS</td>\n      <td>NON ALCOHOL</td>\n      <td>2</td>\n      <td>2.00</td>\n      <td>2.00</td>\n      <td>1.0</td>\n    </tr>\n    <tr>\n      <th>1</th>\n      <td>2767598</td>\n      <td>450</td>\n      <td>2017-11-22</td>\n      <td>Москва и Московская область</td>\n      <td>Мама Раша</td>\n      <td>FOOD</td>\n      <td>1</td>\n      <td>9.00</td>\n      <td>7.00</td>\n      <td>1.0</td>\n    </tr>\n    <tr>\n      <th>2</th>\n      <td>2910374</td>\n      <td>43</td>\n      <td>2017-07-06</td>\n      <td>Москва и Московская область</td>\n      <td>IL Патио</td>\n      <td>FOOD</td>\n      <td>1</td>\n      <td>10.00</td>\n      <td>10.00</td>\n      <td>1.0</td>\n    </tr>\n    <tr>\n      <th>3</th>\n      <td>2743625</td>\n      <td>46</td>\n      <td>2017-11-07</td>\n      <td>Москва и Московская область</td>\n      <td>IL Патио</td>\n      <td>FOOD</td>\n      <td>1</td>\n      <td>10.00</td>\n      <td>10.00</td>\n      <td>1.0</td>\n    </tr>\n    <tr>\n      <th>4</th>\n      <td>2751226</td>\n      <td>49</td>\n      <td>2017-08-03</td>\n      <td>Москва и Московская область</td>\n      <td>IL Патио</td>\n      <td>FOOD</td>\n      <td>1</td>\n      <td>10.00</td>\n      <td>8.92</td>\n      <td>1.0</td>\n    </tr>\n    <tr>\n      <th>...</th>\n      <td>...</td>\n      <td>...</td>\n      <td>...</td>\n      <td>...</td>\n      <td>...</td>\n      <td>...</td>\n      <td>...</td>\n      <td>...</td>\n      <td>...</td>\n      <td>...</td>\n    </tr>\n    <tr>\n      <th>906649</th>\n      <td>2811717</td>\n      <td>922</td>\n      <td>2016-01-07</td>\n      <td>Москва и Московская область</td>\n      <td>IL Патио,Планета Суши</td>\n      <td>FOOD</td>\n      <td>1</td>\n      <td>57.67</td>\n      <td>57.67</td>\n      <td>0.0</td>\n    </tr>\n    <tr>\n      <th>906650</th>\n      <td>2811717</td>\n      <td>922</td>\n      <td>2016-01-07</td>\n      <td>Москва и Московская область</td>\n      <td>IL Патио,Планета Суши</td>\n      <td>FOOD</td>\n      <td>1</td>\n      <td>57.67</td>\n      <td>57.67</td>\n      <td>0.0</td>\n    </tr>\n    <tr>\n      <th>906651</th>\n      <td>2811717</td>\n      <td>922</td>\n      <td>2016-01-07</td>\n      <td>Москва и Московская область</td>\n      <td>IL Патио,Планета Суши</td>\n      <td>FOOD</td>\n      <td>1</td>\n      <td>57.67</td>\n      <td>57.67</td>\n      <td>0.0</td>\n    </tr>\n    <tr>\n      <th>906652</th>\n      <td>2811717</td>\n      <td>922</td>\n      <td>2016-01-07</td>\n      <td>Москва и Московская область</td>\n      <td>IL Патио,Планета Суши</td>\n      <td>FOOD</td>\n      <td>1</td>\n      <td>57.67</td>\n      <td>57.67</td>\n      <td>0.0</td>\n    </tr>\n    <tr>\n      <th>906653</th>\n      <td>2811717</td>\n      <td>922</td>\n      <td>2016-01-07</td>\n      <td>Москва и Московская область</td>\n      <td>IL Патио,Планета Суши</td>\n      <td>FOOD</td>\n      <td>1</td>\n      <td>57.67</td>\n      <td>57.67</td>\n      <td>0.0</td>\n    </tr>\n  </tbody>\n</table>\n<p>906654 rows × 10 columns</p>\n</div>"
     },
     "metadata": {},
     "execution_count": 42
    }
   ],
   "source": [
    "new_df = pd.merge(y_cnt, df, how = 'outer', on = ['CustomerID', 'Restaurant', 'RKDate', 'RegionName', 'BrandsNames', 'DishCategoryName', 'Quantity', 'SummBasic', 'SummAfterPointsUsage'])\n",
    "new_df = new_df.fillna(0)\n",
    "new_df"
   ]
  },
  {
   "cell_type": "code",
   "execution_count": 43,
   "metadata": {},
   "outputs": [
    {
     "output_type": "execute_result",
     "data": {
      "text/plain": "        CustomerID  Restaurant      RKDate                    RegionName  \\\n0          2898197         391  2017-07-16  Москва и Московская область    \n1          2767598         450  2017-11-22  Москва и Московская область    \n2          2910374          43  2017-07-06  Москва и Московская область    \n3          2743625          46  2017-11-07  Москва и Московская область    \n4          2751226          49  2017-08-03  Москва и Московская область    \n...            ...         ...         ...                           ...   \n620658     2904785         440  2015-07-21  Москва и Московская область    \n634121     2832618         906  2017-03-15  Москва и Московская область    \n660976     2751028         492  2015-01-25  Москва и Московская область    \n661026     2889022         492  2016-07-08  Москва и Московская область    \n724977     2744732         934  2015-01-16  Москва и Московская область    \n\n                  BrandsNames DishCategoryName  Quantity  SummBasic  \\\n0                 TGI FRIDAYS      NON ALCOHOL         2        2.0   \n1                   Мама Раша             FOOD         1        9.0   \n2                    IL Патио             FOOD         1       10.0   \n3                    IL Патио             FOOD         1       10.0   \n4                    IL Патио             FOOD         1       10.0   \n...                       ...              ...       ...        ...   \n620658            TGI FRIDAYS             FOOD         1      265.0   \n634121               IL Патио             FOOD         1      425.0   \n660976           Costa Coffee      NON ALCOHOL         1      245.0   \n661026           Costa Coffee      NON ALCOHOL         1      245.0   \n724977  IL Патио,Планета Суши      NON ALCOHOL         1       75.0   \n\n        SummAfterPointsUsage    Y  \n0                       2.00  1.0  \n1                       7.00  1.0  \n2                      10.00  1.0  \n3                      10.00  1.0  \n4                       8.92  1.0  \n...                      ...  ...  \n620658                265.00  0.0  \n634121                425.00  0.0  \n660976                245.00  0.0  \n661026                245.00  0.0  \n724977                 75.00  0.0  \n\n[10000 rows x 10 columns]",
      "text/html": "<div>\n<style scoped>\n    .dataframe tbody tr th:only-of-type {\n        vertical-align: middle;\n    }\n\n    .dataframe tbody tr th {\n        vertical-align: top;\n    }\n\n    .dataframe thead th {\n        text-align: right;\n    }\n</style>\n<table border=\"1\" class=\"dataframe\">\n  <thead>\n    <tr style=\"text-align: right;\">\n      <th></th>\n      <th>CustomerID</th>\n      <th>Restaurant</th>\n      <th>RKDate</th>\n      <th>RegionName</th>\n      <th>BrandsNames</th>\n      <th>DishCategoryName</th>\n      <th>Quantity</th>\n      <th>SummBasic</th>\n      <th>SummAfterPointsUsage</th>\n      <th>Y</th>\n    </tr>\n  </thead>\n  <tbody>\n    <tr>\n      <th>0</th>\n      <td>2898197</td>\n      <td>391</td>\n      <td>2017-07-16</td>\n      <td>Москва и Московская область</td>\n      <td>TGI FRIDAYS</td>\n      <td>NON ALCOHOL</td>\n      <td>2</td>\n      <td>2.0</td>\n      <td>2.00</td>\n      <td>1.0</td>\n    </tr>\n    <tr>\n      <th>1</th>\n      <td>2767598</td>\n      <td>450</td>\n      <td>2017-11-22</td>\n      <td>Москва и Московская область</td>\n      <td>Мама Раша</td>\n      <td>FOOD</td>\n      <td>1</td>\n      <td>9.0</td>\n      <td>7.00</td>\n      <td>1.0</td>\n    </tr>\n    <tr>\n      <th>2</th>\n      <td>2910374</td>\n      <td>43</td>\n      <td>2017-07-06</td>\n      <td>Москва и Московская область</td>\n      <td>IL Патио</td>\n      <td>FOOD</td>\n      <td>1</td>\n      <td>10.0</td>\n      <td>10.00</td>\n      <td>1.0</td>\n    </tr>\n    <tr>\n      <th>3</th>\n      <td>2743625</td>\n      <td>46</td>\n      <td>2017-11-07</td>\n      <td>Москва и Московская область</td>\n      <td>IL Патио</td>\n      <td>FOOD</td>\n      <td>1</td>\n      <td>10.0</td>\n      <td>10.00</td>\n      <td>1.0</td>\n    </tr>\n    <tr>\n      <th>4</th>\n      <td>2751226</td>\n      <td>49</td>\n      <td>2017-08-03</td>\n      <td>Москва и Московская область</td>\n      <td>IL Патио</td>\n      <td>FOOD</td>\n      <td>1</td>\n      <td>10.0</td>\n      <td>8.92</td>\n      <td>1.0</td>\n    </tr>\n    <tr>\n      <th>...</th>\n      <td>...</td>\n      <td>...</td>\n      <td>...</td>\n      <td>...</td>\n      <td>...</td>\n      <td>...</td>\n      <td>...</td>\n      <td>...</td>\n      <td>...</td>\n      <td>...</td>\n    </tr>\n    <tr>\n      <th>620658</th>\n      <td>2904785</td>\n      <td>440</td>\n      <td>2015-07-21</td>\n      <td>Москва и Московская область</td>\n      <td>TGI FRIDAYS</td>\n      <td>FOOD</td>\n      <td>1</td>\n      <td>265.0</td>\n      <td>265.00</td>\n      <td>0.0</td>\n    </tr>\n    <tr>\n      <th>634121</th>\n      <td>2832618</td>\n      <td>906</td>\n      <td>2017-03-15</td>\n      <td>Москва и Московская область</td>\n      <td>IL Патио</td>\n      <td>FOOD</td>\n      <td>1</td>\n      <td>425.0</td>\n      <td>425.00</td>\n      <td>0.0</td>\n    </tr>\n    <tr>\n      <th>660976</th>\n      <td>2751028</td>\n      <td>492</td>\n      <td>2015-01-25</td>\n      <td>Москва и Московская область</td>\n      <td>Costa Coffee</td>\n      <td>NON ALCOHOL</td>\n      <td>1</td>\n      <td>245.0</td>\n      <td>245.00</td>\n      <td>0.0</td>\n    </tr>\n    <tr>\n      <th>661026</th>\n      <td>2889022</td>\n      <td>492</td>\n      <td>2016-07-08</td>\n      <td>Москва и Московская область</td>\n      <td>Costa Coffee</td>\n      <td>NON ALCOHOL</td>\n      <td>1</td>\n      <td>245.0</td>\n      <td>245.00</td>\n      <td>0.0</td>\n    </tr>\n    <tr>\n      <th>724977</th>\n      <td>2744732</td>\n      <td>934</td>\n      <td>2015-01-16</td>\n      <td>Москва и Московская область</td>\n      <td>IL Патио,Планета Суши</td>\n      <td>NON ALCOHOL</td>\n      <td>1</td>\n      <td>75.0</td>\n      <td>75.00</td>\n      <td>0.0</td>\n    </tr>\n  </tbody>\n</table>\n<p>10000 rows × 10 columns</p>\n</div>"
     },
     "metadata": {},
     "execution_count": 43
    }
   ],
   "source": [
    "new_df = new_df.drop_duplicates(['CustomerID'])\n",
    "new_df"
   ]
  },
  {
   "cell_type": "code",
   "execution_count": 44,
   "metadata": {},
   "outputs": [
    {
     "output_type": "execute_result",
     "data": {
      "text/plain": "        CustomerID    Y\n0          2898197  1.0\n1          2767598  1.0\n2          2910374  1.0\n3          2743625  1.0\n4          2751226  1.0\n...            ...  ...\n620658     2904785  0.0\n634121     2832618  0.0\n660976     2751028  0.0\n661026     2889022  0.0\n724977     2744732  0.0\n\n[10000 rows x 2 columns]",
      "text/html": "<div>\n<style scoped>\n    .dataframe tbody tr th:only-of-type {\n        vertical-align: middle;\n    }\n\n    .dataframe tbody tr th {\n        vertical-align: top;\n    }\n\n    .dataframe thead th {\n        text-align: right;\n    }\n</style>\n<table border=\"1\" class=\"dataframe\">\n  <thead>\n    <tr style=\"text-align: right;\">\n      <th></th>\n      <th>CustomerID</th>\n      <th>Y</th>\n    </tr>\n  </thead>\n  <tbody>\n    <tr>\n      <th>0</th>\n      <td>2898197</td>\n      <td>1.0</td>\n    </tr>\n    <tr>\n      <th>1</th>\n      <td>2767598</td>\n      <td>1.0</td>\n    </tr>\n    <tr>\n      <th>2</th>\n      <td>2910374</td>\n      <td>1.0</td>\n    </tr>\n    <tr>\n      <th>3</th>\n      <td>2743625</td>\n      <td>1.0</td>\n    </tr>\n    <tr>\n      <th>4</th>\n      <td>2751226</td>\n      <td>1.0</td>\n    </tr>\n    <tr>\n      <th>...</th>\n      <td>...</td>\n      <td>...</td>\n    </tr>\n    <tr>\n      <th>620658</th>\n      <td>2904785</td>\n      <td>0.0</td>\n    </tr>\n    <tr>\n      <th>634121</th>\n      <td>2832618</td>\n      <td>0.0</td>\n    </tr>\n    <tr>\n      <th>660976</th>\n      <td>2751028</td>\n      <td>0.0</td>\n    </tr>\n    <tr>\n      <th>661026</th>\n      <td>2889022</td>\n      <td>0.0</td>\n    </tr>\n    <tr>\n      <th>724977</th>\n      <td>2744732</td>\n      <td>0.0</td>\n    </tr>\n  </tbody>\n</table>\n<p>10000 rows × 2 columns</p>\n</div>"
     },
     "metadata": {},
     "execution_count": 44
    }
   ],
   "source": [
    "new_df = new_df[['CustomerID', 'Y']]\n",
    "new_df.drop_duplicates()\n",
    "new_df"
   ]
  },
  {
   "cell_type": "code",
   "execution_count": 45,
   "metadata": {},
   "outputs": [
    {
     "output_type": "execute_result",
     "data": {
      "text/plain": "                RKDate\nCustomerID            \n2728046     2017-01-22\n2728088     2015-07-12\n2728089     2017-06-16\n2728095     2017-01-05\n2728107     2017-03-08\n...                ...\n2913103     2016-05-26\n2913106     2017-02-25\n2913114     2017-03-28\n2913123     2017-06-23\n2913132     2017-05-18\n\n[9939 rows x 1 columns]",
      "text/html": "<div>\n<style scoped>\n    .dataframe tbody tr th:only-of-type {\n        vertical-align: middle;\n    }\n\n    .dataframe tbody tr th {\n        vertical-align: top;\n    }\n\n    .dataframe thead th {\n        text-align: right;\n    }\n</style>\n<table border=\"1\" class=\"dataframe\">\n  <thead>\n    <tr style=\"text-align: right;\">\n      <th></th>\n      <th>RKDate</th>\n    </tr>\n    <tr>\n      <th>CustomerID</th>\n      <th></th>\n    </tr>\n  </thead>\n  <tbody>\n    <tr>\n      <th>2728046</th>\n      <td>2017-01-22</td>\n    </tr>\n    <tr>\n      <th>2728088</th>\n      <td>2015-07-12</td>\n    </tr>\n    <tr>\n      <th>2728089</th>\n      <td>2017-06-16</td>\n    </tr>\n    <tr>\n      <th>2728095</th>\n      <td>2017-01-05</td>\n    </tr>\n    <tr>\n      <th>2728107</th>\n      <td>2017-03-08</td>\n    </tr>\n    <tr>\n      <th>...</th>\n      <td>...</td>\n    </tr>\n    <tr>\n      <th>2913103</th>\n      <td>2016-05-26</td>\n    </tr>\n    <tr>\n      <th>2913106</th>\n      <td>2017-02-25</td>\n    </tr>\n    <tr>\n      <th>2913114</th>\n      <td>2017-03-28</td>\n    </tr>\n    <tr>\n      <th>2913123</th>\n      <td>2017-06-23</td>\n    </tr>\n    <tr>\n      <th>2913132</th>\n      <td>2017-05-18</td>\n    </tr>\n  </tbody>\n</table>\n<p>9939 rows × 1 columns</p>\n</div>"
     },
     "metadata": {},
     "execution_count": 45
    }
   ],
   "source": [
    "group_rec = pre_grp[['CustomerID', 'RKDate']].groupby('CustomerID')['RKDate'].max()\n",
    "group_rec = group_rec.to_frame()\n",
    "group_rec"
   ]
  },
  {
   "cell_type": "code",
   "execution_count": 46,
   "metadata": {},
   "outputs": [
    {
     "output_type": "execute_result",
     "data": {
      "text/plain": "      CustomerID    Y      RKDate\n0        2898197  1.0  2017-07-01\n1        2767598  1.0  2017-04-07\n2        2910374  1.0  2017-06-30\n3        2743625  1.0  2017-06-29\n4        2751226  1.0  2017-02-15\n...          ...  ...         ...\n9995     2904785  0.0  2015-08-08\n9996     2832618  0.0  2017-04-08\n9997     2751028  0.0  2015-01-30\n9998     2889022  0.0  2016-08-29\n9999     2744732  0.0  2016-02-16\n\n[10000 rows x 3 columns]",
      "text/html": "<div>\n<style scoped>\n    .dataframe tbody tr th:only-of-type {\n        vertical-align: middle;\n    }\n\n    .dataframe tbody tr th {\n        vertical-align: top;\n    }\n\n    .dataframe thead th {\n        text-align: right;\n    }\n</style>\n<table border=\"1\" class=\"dataframe\">\n  <thead>\n    <tr style=\"text-align: right;\">\n      <th></th>\n      <th>CustomerID</th>\n      <th>Y</th>\n      <th>RKDate</th>\n    </tr>\n  </thead>\n  <tbody>\n    <tr>\n      <th>0</th>\n      <td>2898197</td>\n      <td>1.0</td>\n      <td>2017-07-01</td>\n    </tr>\n    <tr>\n      <th>1</th>\n      <td>2767598</td>\n      <td>1.0</td>\n      <td>2017-04-07</td>\n    </tr>\n    <tr>\n      <th>2</th>\n      <td>2910374</td>\n      <td>1.0</td>\n      <td>2017-06-30</td>\n    </tr>\n    <tr>\n      <th>3</th>\n      <td>2743625</td>\n      <td>1.0</td>\n      <td>2017-06-29</td>\n    </tr>\n    <tr>\n      <th>4</th>\n      <td>2751226</td>\n      <td>1.0</td>\n      <td>2017-02-15</td>\n    </tr>\n    <tr>\n      <th>...</th>\n      <td>...</td>\n      <td>...</td>\n      <td>...</td>\n    </tr>\n    <tr>\n      <th>9995</th>\n      <td>2904785</td>\n      <td>0.0</td>\n      <td>2015-08-08</td>\n    </tr>\n    <tr>\n      <th>9996</th>\n      <td>2832618</td>\n      <td>0.0</td>\n      <td>2017-04-08</td>\n    </tr>\n    <tr>\n      <th>9997</th>\n      <td>2751028</td>\n      <td>0.0</td>\n      <td>2015-01-30</td>\n    </tr>\n    <tr>\n      <th>9998</th>\n      <td>2889022</td>\n      <td>0.0</td>\n      <td>2016-08-29</td>\n    </tr>\n    <tr>\n      <th>9999</th>\n      <td>2744732</td>\n      <td>0.0</td>\n      <td>2016-02-16</td>\n    </tr>\n  </tbody>\n</table>\n<p>10000 rows × 3 columns</p>\n</div>"
     },
     "metadata": {},
     "execution_count": 46
    }
   ],
   "source": [
    "new_df = pd.merge(new_df, group_rec, how = 'outer', on = 'CustomerID')\n",
    "new_df = new_df.fillna('2017-07-01')\n",
    "new_df"
   ]
  },
  {
   "cell_type": "code",
   "execution_count": 47,
   "metadata": {},
   "outputs": [
    {
     "output_type": "execute_result",
     "data": {
      "text/plain": "      CustomerID    Y     Recency\n0        2898197  1.0  2017-07-01\n1        2767598  1.0  2017-04-07\n2        2910374  1.0  2017-06-30\n3        2743625  1.0  2017-06-29\n4        2751226  1.0  2017-02-15\n...          ...  ...         ...\n9995     2904785  0.0  2015-08-08\n9996     2832618  0.0  2017-04-08\n9997     2751028  0.0  2015-01-30\n9998     2889022  0.0  2016-08-29\n9999     2744732  0.0  2016-02-16\n\n[10000 rows x 3 columns]",
      "text/html": "<div>\n<style scoped>\n    .dataframe tbody tr th:only-of-type {\n        vertical-align: middle;\n    }\n\n    .dataframe tbody tr th {\n        vertical-align: top;\n    }\n\n    .dataframe thead th {\n        text-align: right;\n    }\n</style>\n<table border=\"1\" class=\"dataframe\">\n  <thead>\n    <tr style=\"text-align: right;\">\n      <th></th>\n      <th>CustomerID</th>\n      <th>Y</th>\n      <th>Recency</th>\n    </tr>\n  </thead>\n  <tbody>\n    <tr>\n      <th>0</th>\n      <td>2898197</td>\n      <td>1.0</td>\n      <td>2017-07-01</td>\n    </tr>\n    <tr>\n      <th>1</th>\n      <td>2767598</td>\n      <td>1.0</td>\n      <td>2017-04-07</td>\n    </tr>\n    <tr>\n      <th>2</th>\n      <td>2910374</td>\n      <td>1.0</td>\n      <td>2017-06-30</td>\n    </tr>\n    <tr>\n      <th>3</th>\n      <td>2743625</td>\n      <td>1.0</td>\n      <td>2017-06-29</td>\n    </tr>\n    <tr>\n      <th>4</th>\n      <td>2751226</td>\n      <td>1.0</td>\n      <td>2017-02-15</td>\n    </tr>\n    <tr>\n      <th>...</th>\n      <td>...</td>\n      <td>...</td>\n      <td>...</td>\n    </tr>\n    <tr>\n      <th>9995</th>\n      <td>2904785</td>\n      <td>0.0</td>\n      <td>2015-08-08</td>\n    </tr>\n    <tr>\n      <th>9996</th>\n      <td>2832618</td>\n      <td>0.0</td>\n      <td>2017-04-08</td>\n    </tr>\n    <tr>\n      <th>9997</th>\n      <td>2751028</td>\n      <td>0.0</td>\n      <td>2015-01-30</td>\n    </tr>\n    <tr>\n      <th>9998</th>\n      <td>2889022</td>\n      <td>0.0</td>\n      <td>2016-08-29</td>\n    </tr>\n    <tr>\n      <th>9999</th>\n      <td>2744732</td>\n      <td>0.0</td>\n      <td>2016-02-16</td>\n    </tr>\n  </tbody>\n</table>\n<p>10000 rows × 3 columns</p>\n</div>"
     },
     "metadata": {},
     "execution_count": 47
    }
   ],
   "source": [
    "new_df = new_df.rename(columns = {\"RKDate\" : \"Recency\"})\n",
    "new_df"
   ]
  },
  {
   "cell_type": "code",
   "execution_count": 48,
   "metadata": {},
   "outputs": [
    {
     "output_type": "execute_result",
     "data": {
      "text/plain": "      CustomerID    Y  Recency\n0        2898197  1.0   0 days\n1        2767598  1.0  85 days\n2        2910374  1.0   1 days\n3        2743625  1.0   2 days\n4        2751226  1.0 136 days\n...          ...  ...      ...\n9995     2904785  0.0 693 days\n9996     2832618  0.0  84 days\n9997     2751028  0.0 883 days\n9998     2889022  0.0 306 days\n9999     2744732  0.0 501 days\n\n[10000 rows x 3 columns]",
      "text/html": "<div>\n<style scoped>\n    .dataframe tbody tr th:only-of-type {\n        vertical-align: middle;\n    }\n\n    .dataframe tbody tr th {\n        vertical-align: top;\n    }\n\n    .dataframe thead th {\n        text-align: right;\n    }\n</style>\n<table border=\"1\" class=\"dataframe\">\n  <thead>\n    <tr style=\"text-align: right;\">\n      <th></th>\n      <th>CustomerID</th>\n      <th>Y</th>\n      <th>Recency</th>\n    </tr>\n  </thead>\n  <tbody>\n    <tr>\n      <th>0</th>\n      <td>2898197</td>\n      <td>1.0</td>\n      <td>0 days</td>\n    </tr>\n    <tr>\n      <th>1</th>\n      <td>2767598</td>\n      <td>1.0</td>\n      <td>85 days</td>\n    </tr>\n    <tr>\n      <th>2</th>\n      <td>2910374</td>\n      <td>1.0</td>\n      <td>1 days</td>\n    </tr>\n    <tr>\n      <th>3</th>\n      <td>2743625</td>\n      <td>1.0</td>\n      <td>2 days</td>\n    </tr>\n    <tr>\n      <th>4</th>\n      <td>2751226</td>\n      <td>1.0</td>\n      <td>136 days</td>\n    </tr>\n    <tr>\n      <th>...</th>\n      <td>...</td>\n      <td>...</td>\n      <td>...</td>\n    </tr>\n    <tr>\n      <th>9995</th>\n      <td>2904785</td>\n      <td>0.0</td>\n      <td>693 days</td>\n    </tr>\n    <tr>\n      <th>9996</th>\n      <td>2832618</td>\n      <td>0.0</td>\n      <td>84 days</td>\n    </tr>\n    <tr>\n      <th>9997</th>\n      <td>2751028</td>\n      <td>0.0</td>\n      <td>883 days</td>\n    </tr>\n    <tr>\n      <th>9998</th>\n      <td>2889022</td>\n      <td>0.0</td>\n      <td>306 days</td>\n    </tr>\n    <tr>\n      <th>9999</th>\n      <td>2744732</td>\n      <td>0.0</td>\n      <td>501 days</td>\n    </tr>\n  </tbody>\n</table>\n<p>10000 rows × 3 columns</p>\n</div>"
     },
     "metadata": {},
     "execution_count": 48
    }
   ],
   "source": [
    "new_df.Recency = pd.to_datetime('2017-07-01') - pd.to_datetime(new_df['Recency'])\n",
    "new_df"
   ]
  },
  {
   "cell_type": "code",
   "execution_count": 49,
   "metadata": {},
   "outputs": [
    {
     "output_type": "execute_result",
     "data": {
      "text/plain": "      CustomerID    Y  Recency\n0        2898197  1.0      0.0\n1        2767598  1.0     85.0\n2        2910374  1.0      1.0\n3        2743625  1.0      2.0\n4        2751226  1.0    136.0\n...          ...  ...      ...\n9995     2904785  0.0    693.0\n9996     2832618  0.0     84.0\n9997     2751028  0.0    883.0\n9998     2889022  0.0    306.0\n9999     2744732  0.0    501.0\n\n[10000 rows x 3 columns]",
      "text/html": "<div>\n<style scoped>\n    .dataframe tbody tr th:only-of-type {\n        vertical-align: middle;\n    }\n\n    .dataframe tbody tr th {\n        vertical-align: top;\n    }\n\n    .dataframe thead th {\n        text-align: right;\n    }\n</style>\n<table border=\"1\" class=\"dataframe\">\n  <thead>\n    <tr style=\"text-align: right;\">\n      <th></th>\n      <th>CustomerID</th>\n      <th>Y</th>\n      <th>Recency</th>\n    </tr>\n  </thead>\n  <tbody>\n    <tr>\n      <th>0</th>\n      <td>2898197</td>\n      <td>1.0</td>\n      <td>0.0</td>\n    </tr>\n    <tr>\n      <th>1</th>\n      <td>2767598</td>\n      <td>1.0</td>\n      <td>85.0</td>\n    </tr>\n    <tr>\n      <th>2</th>\n      <td>2910374</td>\n      <td>1.0</td>\n      <td>1.0</td>\n    </tr>\n    <tr>\n      <th>3</th>\n      <td>2743625</td>\n      <td>1.0</td>\n      <td>2.0</td>\n    </tr>\n    <tr>\n      <th>4</th>\n      <td>2751226</td>\n      <td>1.0</td>\n      <td>136.0</td>\n    </tr>\n    <tr>\n      <th>...</th>\n      <td>...</td>\n      <td>...</td>\n      <td>...</td>\n    </tr>\n    <tr>\n      <th>9995</th>\n      <td>2904785</td>\n      <td>0.0</td>\n      <td>693.0</td>\n    </tr>\n    <tr>\n      <th>9996</th>\n      <td>2832618</td>\n      <td>0.0</td>\n      <td>84.0</td>\n    </tr>\n    <tr>\n      <th>9997</th>\n      <td>2751028</td>\n      <td>0.0</td>\n      <td>883.0</td>\n    </tr>\n    <tr>\n      <th>9998</th>\n      <td>2889022</td>\n      <td>0.0</td>\n      <td>306.0</td>\n    </tr>\n    <tr>\n      <th>9999</th>\n      <td>2744732</td>\n      <td>0.0</td>\n      <td>501.0</td>\n    </tr>\n  </tbody>\n</table>\n<p>10000 rows × 3 columns</p>\n</div>"
     },
     "metadata": {},
     "execution_count": 49
    }
   ],
   "source": [
    "new_df.Recency /=  np.timedelta64(1,'D')\n",
    "new_df"
   ]
  },
  {
   "cell_type": "code",
   "execution_count": 50,
   "metadata": {},
   "outputs": [
    {
     "output_type": "execute_result",
     "data": {
      "text/plain": "CustomerID\n2728046    2015-01-01\n2728088    2015-01-01\n2728089    2015-01-01\n2728095    2015-01-01\n2728107    2015-01-01\n              ...    \n2913103    2015-03-31\n2913106    2015-03-31\n2913114    2015-03-31\n2913123    2015-03-31\n2913132    2016-12-07\nName: RKDate, Length: 9939, dtype: object"
     },
     "metadata": {},
     "execution_count": 50
    }
   ],
   "source": [
    "group_ft = pre_grp[['CustomerID', 'RKDate']].groupby('CustomerID')['RKDate'].min()\n",
    "group_ft"
   ]
  },
  {
   "cell_type": "code",
   "execution_count": 51,
   "metadata": {},
   "outputs": [],
   "source": [
    "group_ft=group_ft.to_frame()"
   ]
  },
  {
   "cell_type": "code",
   "execution_count": 52,
   "metadata": {},
   "outputs": [
    {
     "output_type": "execute_result",
     "data": {
      "text/plain": "            RKDate\nCustomerID        \n2728046      912.0\n2728088      912.0\n2728089      912.0\n2728095      912.0\n2728107      912.0\n...            ...\n2913103      823.0\n2913106      823.0\n2913114      823.0\n2913123      823.0\n2913132      206.0\n\n[9939 rows x 1 columns]",
      "text/html": "<div>\n<style scoped>\n    .dataframe tbody tr th:only-of-type {\n        vertical-align: middle;\n    }\n\n    .dataframe tbody tr th {\n        vertical-align: top;\n    }\n\n    .dataframe thead th {\n        text-align: right;\n    }\n</style>\n<table border=\"1\" class=\"dataframe\">\n  <thead>\n    <tr style=\"text-align: right;\">\n      <th></th>\n      <th>RKDate</th>\n    </tr>\n    <tr>\n      <th>CustomerID</th>\n      <th></th>\n    </tr>\n  </thead>\n  <tbody>\n    <tr>\n      <th>2728046</th>\n      <td>912.0</td>\n    </tr>\n    <tr>\n      <th>2728088</th>\n      <td>912.0</td>\n    </tr>\n    <tr>\n      <th>2728089</th>\n      <td>912.0</td>\n    </tr>\n    <tr>\n      <th>2728095</th>\n      <td>912.0</td>\n    </tr>\n    <tr>\n      <th>2728107</th>\n      <td>912.0</td>\n    </tr>\n    <tr>\n      <th>...</th>\n      <td>...</td>\n    </tr>\n    <tr>\n      <th>2913103</th>\n      <td>823.0</td>\n    </tr>\n    <tr>\n      <th>2913106</th>\n      <td>823.0</td>\n    </tr>\n    <tr>\n      <th>2913114</th>\n      <td>823.0</td>\n    </tr>\n    <tr>\n      <th>2913123</th>\n      <td>823.0</td>\n    </tr>\n    <tr>\n      <th>2913132</th>\n      <td>206.0</td>\n    </tr>\n  </tbody>\n</table>\n<p>9939 rows × 1 columns</p>\n</div>"
     },
     "metadata": {},
     "execution_count": 52
    }
   ],
   "source": [
    "group_ft.RKDate = (pd.to_datetime('2017-07-01') - pd.to_datetime(group_ft['RKDate'])) / np.timedelta64(1,'D')\n",
    "group_ft"
   ]
  },
  {
   "cell_type": "code",
   "execution_count": 53,
   "metadata": {},
   "outputs": [
    {
     "output_type": "execute_result",
     "data": {
      "text/plain": "CustomerID\n2728046     57\n2728088     34\n2728089     33\n2728095     99\n2728107     21\n          ... \n2913103     39\n2913106    187\n2913114    111\n2913123    232\n2913132     18\nName: RKDate, Length: 9939, dtype: int64"
     },
     "metadata": {},
     "execution_count": 53
    }
   ],
   "source": [
    "group_frec = pre_grp[['CustomerID', 'RKDate']].groupby('CustomerID')['RKDate'].count()\n",
    "group_frec"
   ]
  },
  {
   "cell_type": "code",
   "execution_count": 54,
   "metadata": {},
   "outputs": [],
   "source": [
    "group_frec = group_frec.to_frame()"
   ]
  },
  {
   "cell_type": "code",
   "execution_count": 55,
   "metadata": {},
   "outputs": [
    {
     "output_type": "execute_result",
     "data": {
      "text/plain": "            tmp\nCustomerID     \n2728046      57\n2728088      34\n2728089      33\n2728095      99\n2728107      21\n...         ...\n2913103      39\n2913106     187\n2913114     111\n2913123     232\n2913132      18\n\n[9939 rows x 1 columns]",
      "text/html": "<div>\n<style scoped>\n    .dataframe tbody tr th:only-of-type {\n        vertical-align: middle;\n    }\n\n    .dataframe tbody tr th {\n        vertical-align: top;\n    }\n\n    .dataframe thead th {\n        text-align: right;\n    }\n</style>\n<table border=\"1\" class=\"dataframe\">\n  <thead>\n    <tr style=\"text-align: right;\">\n      <th></th>\n      <th>tmp</th>\n    </tr>\n    <tr>\n      <th>CustomerID</th>\n      <th></th>\n    </tr>\n  </thead>\n  <tbody>\n    <tr>\n      <th>2728046</th>\n      <td>57</td>\n    </tr>\n    <tr>\n      <th>2728088</th>\n      <td>34</td>\n    </tr>\n    <tr>\n      <th>2728089</th>\n      <td>33</td>\n    </tr>\n    <tr>\n      <th>2728095</th>\n      <td>99</td>\n    </tr>\n    <tr>\n      <th>2728107</th>\n      <td>21</td>\n    </tr>\n    <tr>\n      <th>...</th>\n      <td>...</td>\n    </tr>\n    <tr>\n      <th>2913103</th>\n      <td>39</td>\n    </tr>\n    <tr>\n      <th>2913106</th>\n      <td>187</td>\n    </tr>\n    <tr>\n      <th>2913114</th>\n      <td>111</td>\n    </tr>\n    <tr>\n      <th>2913123</th>\n      <td>232</td>\n    </tr>\n    <tr>\n      <th>2913132</th>\n      <td>18</td>\n    </tr>\n  </tbody>\n</table>\n<p>9939 rows × 1 columns</p>\n</div>"
     },
     "metadata": {},
     "execution_count": 55
    }
   ],
   "source": [
    "group_frec = group_frec.rename(columns = {\"RKDate\" : \"tmp\"})\n",
    "group_frec"
   ]
  },
  {
   "cell_type": "code",
   "execution_count": 56,
   "metadata": {},
   "outputs": [
    {
     "output_type": "execute_result",
     "data": {
      "text/plain": "            tmp  RKDate\nCustomerID             \n2728046      57   912.0\n2728088      34   912.0\n2728089      33   912.0\n2728095      99   912.0\n2728107      21   912.0\n...         ...     ...\n2913103      39   823.0\n2913106     187   823.0\n2913114     111   823.0\n2913123     232   823.0\n2913132      18   206.0\n\n[9939 rows x 2 columns]",
      "text/html": "<div>\n<style scoped>\n    .dataframe tbody tr th:only-of-type {\n        vertical-align: middle;\n    }\n\n    .dataframe tbody tr th {\n        vertical-align: top;\n    }\n\n    .dataframe thead th {\n        text-align: right;\n    }\n</style>\n<table border=\"1\" class=\"dataframe\">\n  <thead>\n    <tr style=\"text-align: right;\">\n      <th></th>\n      <th>tmp</th>\n      <th>RKDate</th>\n    </tr>\n    <tr>\n      <th>CustomerID</th>\n      <th></th>\n      <th></th>\n    </tr>\n  </thead>\n  <tbody>\n    <tr>\n      <th>2728046</th>\n      <td>57</td>\n      <td>912.0</td>\n    </tr>\n    <tr>\n      <th>2728088</th>\n      <td>34</td>\n      <td>912.0</td>\n    </tr>\n    <tr>\n      <th>2728089</th>\n      <td>33</td>\n      <td>912.0</td>\n    </tr>\n    <tr>\n      <th>2728095</th>\n      <td>99</td>\n      <td>912.0</td>\n    </tr>\n    <tr>\n      <th>2728107</th>\n      <td>21</td>\n      <td>912.0</td>\n    </tr>\n    <tr>\n      <th>...</th>\n      <td>...</td>\n      <td>...</td>\n    </tr>\n    <tr>\n      <th>2913103</th>\n      <td>39</td>\n      <td>823.0</td>\n    </tr>\n    <tr>\n      <th>2913106</th>\n      <td>187</td>\n      <td>823.0</td>\n    </tr>\n    <tr>\n      <th>2913114</th>\n      <td>111</td>\n      <td>823.0</td>\n    </tr>\n    <tr>\n      <th>2913123</th>\n      <td>232</td>\n      <td>823.0</td>\n    </tr>\n    <tr>\n      <th>2913132</th>\n      <td>18</td>\n      <td>206.0</td>\n    </tr>\n  </tbody>\n</table>\n<p>9939 rows × 2 columns</p>\n</div>"
     },
     "metadata": {},
     "execution_count": 56
    }
   ],
   "source": [
    "group_frec = pd.merge(group_frec, group_ft, how = 'left', on = 'CustomerID')\n",
    "group_frec"
   ]
  },
  {
   "cell_type": "code",
   "execution_count": 57,
   "metadata": {},
   "outputs": [
    {
     "output_type": "execute_result",
     "data": {
      "text/plain": "            tmp  RKDate  Frequency\nCustomerID                        \n2728046      57   912.0   1.875000\n2728088      34   912.0   1.118421\n2728089      33   912.0   1.085526\n2728095      99   912.0   3.256579\n2728107      21   912.0   0.690789\n...         ...     ...        ...\n2913103      39   823.0   1.421628\n2913106     187   823.0   6.816525\n2913114     111   823.0   4.046173\n2913123     232   823.0   8.456865\n2913132      18   206.0   2.621359\n\n[9939 rows x 3 columns]",
      "text/html": "<div>\n<style scoped>\n    .dataframe tbody tr th:only-of-type {\n        vertical-align: middle;\n    }\n\n    .dataframe tbody tr th {\n        vertical-align: top;\n    }\n\n    .dataframe thead th {\n        text-align: right;\n    }\n</style>\n<table border=\"1\" class=\"dataframe\">\n  <thead>\n    <tr style=\"text-align: right;\">\n      <th></th>\n      <th>tmp</th>\n      <th>RKDate</th>\n      <th>Frequency</th>\n    </tr>\n    <tr>\n      <th>CustomerID</th>\n      <th></th>\n      <th></th>\n      <th></th>\n    </tr>\n  </thead>\n  <tbody>\n    <tr>\n      <th>2728046</th>\n      <td>57</td>\n      <td>912.0</td>\n      <td>1.875000</td>\n    </tr>\n    <tr>\n      <th>2728088</th>\n      <td>34</td>\n      <td>912.0</td>\n      <td>1.118421</td>\n    </tr>\n    <tr>\n      <th>2728089</th>\n      <td>33</td>\n      <td>912.0</td>\n      <td>1.085526</td>\n    </tr>\n    <tr>\n      <th>2728095</th>\n      <td>99</td>\n      <td>912.0</td>\n      <td>3.256579</td>\n    </tr>\n    <tr>\n      <th>2728107</th>\n      <td>21</td>\n      <td>912.0</td>\n      <td>0.690789</td>\n    </tr>\n    <tr>\n      <th>...</th>\n      <td>...</td>\n      <td>...</td>\n      <td>...</td>\n    </tr>\n    <tr>\n      <th>2913103</th>\n      <td>39</td>\n      <td>823.0</td>\n      <td>1.421628</td>\n    </tr>\n    <tr>\n      <th>2913106</th>\n      <td>187</td>\n      <td>823.0</td>\n      <td>6.816525</td>\n    </tr>\n    <tr>\n      <th>2913114</th>\n      <td>111</td>\n      <td>823.0</td>\n      <td>4.046173</td>\n    </tr>\n    <tr>\n      <th>2913123</th>\n      <td>232</td>\n      <td>823.0</td>\n      <td>8.456865</td>\n    </tr>\n    <tr>\n      <th>2913132</th>\n      <td>18</td>\n      <td>206.0</td>\n      <td>2.621359</td>\n    </tr>\n  </tbody>\n</table>\n<p>9939 rows × 3 columns</p>\n</div>"
     },
     "metadata": {},
     "execution_count": 57
    }
   ],
   "source": [
    "group_frec[\"Frequency\"] = group_frec.tmp * 30 / group_frec.RKDate\n",
    "group_frec"
   ]
  },
  {
   "cell_type": "code",
   "execution_count": 58,
   "metadata": {},
   "outputs": [],
   "source": [
    "group_frec = group_frec.reset_index()"
   ]
  },
  {
   "cell_type": "code",
   "execution_count": 59,
   "metadata": {},
   "outputs": [
    {
     "output_type": "execute_result",
     "data": {
      "text/plain": "      CustomerID  Frequency  tmp\n0        2728046   1.875000   57\n1        2728088   1.118421   34\n2        2728089   1.085526   33\n3        2728095   3.256579   99\n4        2728107   0.690789   21\n...          ...        ...  ...\n9934     2913103   1.421628   39\n9935     2913106   6.816525  187\n9936     2913114   4.046173  111\n9937     2913123   8.456865  232\n9938     2913132   2.621359   18\n\n[9939 rows x 3 columns]",
      "text/html": "<div>\n<style scoped>\n    .dataframe tbody tr th:only-of-type {\n        vertical-align: middle;\n    }\n\n    .dataframe tbody tr th {\n        vertical-align: top;\n    }\n\n    .dataframe thead th {\n        text-align: right;\n    }\n</style>\n<table border=\"1\" class=\"dataframe\">\n  <thead>\n    <tr style=\"text-align: right;\">\n      <th></th>\n      <th>CustomerID</th>\n      <th>Frequency</th>\n      <th>tmp</th>\n    </tr>\n  </thead>\n  <tbody>\n    <tr>\n      <th>0</th>\n      <td>2728046</td>\n      <td>1.875000</td>\n      <td>57</td>\n    </tr>\n    <tr>\n      <th>1</th>\n      <td>2728088</td>\n      <td>1.118421</td>\n      <td>34</td>\n    </tr>\n    <tr>\n      <th>2</th>\n      <td>2728089</td>\n      <td>1.085526</td>\n      <td>33</td>\n    </tr>\n    <tr>\n      <th>3</th>\n      <td>2728095</td>\n      <td>3.256579</td>\n      <td>99</td>\n    </tr>\n    <tr>\n      <th>4</th>\n      <td>2728107</td>\n      <td>0.690789</td>\n      <td>21</td>\n    </tr>\n    <tr>\n      <th>...</th>\n      <td>...</td>\n      <td>...</td>\n      <td>...</td>\n    </tr>\n    <tr>\n      <th>9934</th>\n      <td>2913103</td>\n      <td>1.421628</td>\n      <td>39</td>\n    </tr>\n    <tr>\n      <th>9935</th>\n      <td>2913106</td>\n      <td>6.816525</td>\n      <td>187</td>\n    </tr>\n    <tr>\n      <th>9936</th>\n      <td>2913114</td>\n      <td>4.046173</td>\n      <td>111</td>\n    </tr>\n    <tr>\n      <th>9937</th>\n      <td>2913123</td>\n      <td>8.456865</td>\n      <td>232</td>\n    </tr>\n    <tr>\n      <th>9938</th>\n      <td>2913132</td>\n      <td>2.621359</td>\n      <td>18</td>\n    </tr>\n  </tbody>\n</table>\n<p>9939 rows × 3 columns</p>\n</div>"
     },
     "metadata": {},
     "execution_count": 59
    }
   ],
   "source": [
    "group_frec = group_frec[['CustomerID', 'Frequency', 'tmp']]\n",
    "group_frec"
   ]
  },
  {
   "cell_type": "code",
   "execution_count": 60,
   "metadata": {},
   "outputs": [
    {
     "output_type": "execute_result",
     "data": {
      "text/plain": "      CustomerID    Y  Recency  Frequency    tmp\n0        2898197  1.0      0.0   5.042017  140.0\n1        2767598  1.0     85.0   2.157534   63.0\n2        2910374  1.0      1.0  28.145455  774.0\n3        2743625  1.0      2.0   4.338154  130.0\n4        2751226  1.0    136.0   0.437220   13.0\n...          ...  ...      ...        ...    ...\n9995     2904785  0.0    693.0   0.253317    7.0\n9996     2832618  0.0     84.0   2.222222    8.0\n9997     2751028  0.0    883.0   0.101351    3.0\n9998     2889022  0.0    306.0   0.502793    6.0\n9999     2744732  0.0    501.0   6.956522  208.0\n\n[10000 rows x 5 columns]",
      "text/html": "<div>\n<style scoped>\n    .dataframe tbody tr th:only-of-type {\n        vertical-align: middle;\n    }\n\n    .dataframe tbody tr th {\n        vertical-align: top;\n    }\n\n    .dataframe thead th {\n        text-align: right;\n    }\n</style>\n<table border=\"1\" class=\"dataframe\">\n  <thead>\n    <tr style=\"text-align: right;\">\n      <th></th>\n      <th>CustomerID</th>\n      <th>Y</th>\n      <th>Recency</th>\n      <th>Frequency</th>\n      <th>tmp</th>\n    </tr>\n  </thead>\n  <tbody>\n    <tr>\n      <th>0</th>\n      <td>2898197</td>\n      <td>1.0</td>\n      <td>0.0</td>\n      <td>5.042017</td>\n      <td>140.0</td>\n    </tr>\n    <tr>\n      <th>1</th>\n      <td>2767598</td>\n      <td>1.0</td>\n      <td>85.0</td>\n      <td>2.157534</td>\n      <td>63.0</td>\n    </tr>\n    <tr>\n      <th>2</th>\n      <td>2910374</td>\n      <td>1.0</td>\n      <td>1.0</td>\n      <td>28.145455</td>\n      <td>774.0</td>\n    </tr>\n    <tr>\n      <th>3</th>\n      <td>2743625</td>\n      <td>1.0</td>\n      <td>2.0</td>\n      <td>4.338154</td>\n      <td>130.0</td>\n    </tr>\n    <tr>\n      <th>4</th>\n      <td>2751226</td>\n      <td>1.0</td>\n      <td>136.0</td>\n      <td>0.437220</td>\n      <td>13.0</td>\n    </tr>\n    <tr>\n      <th>...</th>\n      <td>...</td>\n      <td>...</td>\n      <td>...</td>\n      <td>...</td>\n      <td>...</td>\n    </tr>\n    <tr>\n      <th>9995</th>\n      <td>2904785</td>\n      <td>0.0</td>\n      <td>693.0</td>\n      <td>0.253317</td>\n      <td>7.0</td>\n    </tr>\n    <tr>\n      <th>9996</th>\n      <td>2832618</td>\n      <td>0.0</td>\n      <td>84.0</td>\n      <td>2.222222</td>\n      <td>8.0</td>\n    </tr>\n    <tr>\n      <th>9997</th>\n      <td>2751028</td>\n      <td>0.0</td>\n      <td>883.0</td>\n      <td>0.101351</td>\n      <td>3.0</td>\n    </tr>\n    <tr>\n      <th>9998</th>\n      <td>2889022</td>\n      <td>0.0</td>\n      <td>306.0</td>\n      <td>0.502793</td>\n      <td>6.0</td>\n    </tr>\n    <tr>\n      <th>9999</th>\n      <td>2744732</td>\n      <td>0.0</td>\n      <td>501.0</td>\n      <td>6.956522</td>\n      <td>208.0</td>\n    </tr>\n  </tbody>\n</table>\n<p>10000 rows × 5 columns</p>\n</div>"
     },
     "metadata": {},
     "execution_count": 60
    }
   ],
   "source": [
    "new_df = pd.merge(new_df, group_frec, how = 'outer', on = 'CustomerID')\n",
    "new_df = new_df.fillna(0.0)\n",
    "new_df"
   ]
  },
  {
   "cell_type": "code",
   "execution_count": 61,
   "metadata": {},
   "outputs": [
    {
     "output_type": "execute_result",
     "data": {
      "text/plain": "            SummAfterPointsUsage\nCustomerID                      \n2728046                 14352.00\n2728088                  9508.00\n2728089                 13158.25\n2728095                 26011.00\n2728107                  8268.00\n...                          ...\n2913103                 17298.00\n2913106                 47308.00\n2913114                 34618.00\n2913123                 29982.00\n2913132                  6664.00\n\n[9939 rows x 1 columns]",
      "text/html": "<div>\n<style scoped>\n    .dataframe tbody tr th:only-of-type {\n        vertical-align: middle;\n    }\n\n    .dataframe tbody tr th {\n        vertical-align: top;\n    }\n\n    .dataframe thead th {\n        text-align: right;\n    }\n</style>\n<table border=\"1\" class=\"dataframe\">\n  <thead>\n    <tr style=\"text-align: right;\">\n      <th></th>\n      <th>SummAfterPointsUsage</th>\n    </tr>\n    <tr>\n      <th>CustomerID</th>\n      <th></th>\n    </tr>\n  </thead>\n  <tbody>\n    <tr>\n      <th>2728046</th>\n      <td>14352.00</td>\n    </tr>\n    <tr>\n      <th>2728088</th>\n      <td>9508.00</td>\n    </tr>\n    <tr>\n      <th>2728089</th>\n      <td>13158.25</td>\n    </tr>\n    <tr>\n      <th>2728095</th>\n      <td>26011.00</td>\n    </tr>\n    <tr>\n      <th>2728107</th>\n      <td>8268.00</td>\n    </tr>\n    <tr>\n      <th>...</th>\n      <td>...</td>\n    </tr>\n    <tr>\n      <th>2913103</th>\n      <td>17298.00</td>\n    </tr>\n    <tr>\n      <th>2913106</th>\n      <td>47308.00</td>\n    </tr>\n    <tr>\n      <th>2913114</th>\n      <td>34618.00</td>\n    </tr>\n    <tr>\n      <th>2913123</th>\n      <td>29982.00</td>\n    </tr>\n    <tr>\n      <th>2913132</th>\n      <td>6664.00</td>\n    </tr>\n  </tbody>\n</table>\n<p>9939 rows × 1 columns</p>\n</div>"
     },
     "metadata": {},
     "execution_count": 61
    }
   ],
   "source": [
    "group_mv = pre_grp[['CustomerID', 'SummAfterPointsUsage']].groupby('CustomerID')['SummAfterPointsUsage'].sum()\n",
    "group_mv = group_mv.to_frame()\n",
    "group_mv"
   ]
  },
  {
   "cell_type": "code",
   "execution_count": 62,
   "metadata": {},
   "outputs": [
    {
     "output_type": "execute_result",
     "data": {
      "text/plain": "      CustomerID  SummAfterPointsUsage\n0        2728046              14352.00\n1        2728088               9508.00\n2        2728089              13158.25\n3        2728095              26011.00\n4        2728107               8268.00\n...          ...                   ...\n9934     2913103              17298.00\n9935     2913106              47308.00\n9936     2913114              34618.00\n9937     2913123              29982.00\n9938     2913132               6664.00\n\n[9939 rows x 2 columns]",
      "text/html": "<div>\n<style scoped>\n    .dataframe tbody tr th:only-of-type {\n        vertical-align: middle;\n    }\n\n    .dataframe tbody tr th {\n        vertical-align: top;\n    }\n\n    .dataframe thead th {\n        text-align: right;\n    }\n</style>\n<table border=\"1\" class=\"dataframe\">\n  <thead>\n    <tr style=\"text-align: right;\">\n      <th></th>\n      <th>CustomerID</th>\n      <th>SummAfterPointsUsage</th>\n    </tr>\n  </thead>\n  <tbody>\n    <tr>\n      <th>0</th>\n      <td>2728046</td>\n      <td>14352.00</td>\n    </tr>\n    <tr>\n      <th>1</th>\n      <td>2728088</td>\n      <td>9508.00</td>\n    </tr>\n    <tr>\n      <th>2</th>\n      <td>2728089</td>\n      <td>13158.25</td>\n    </tr>\n    <tr>\n      <th>3</th>\n      <td>2728095</td>\n      <td>26011.00</td>\n    </tr>\n    <tr>\n      <th>4</th>\n      <td>2728107</td>\n      <td>8268.00</td>\n    </tr>\n    <tr>\n      <th>...</th>\n      <td>...</td>\n      <td>...</td>\n    </tr>\n    <tr>\n      <th>9934</th>\n      <td>2913103</td>\n      <td>17298.00</td>\n    </tr>\n    <tr>\n      <th>9935</th>\n      <td>2913106</td>\n      <td>47308.00</td>\n    </tr>\n    <tr>\n      <th>9936</th>\n      <td>2913114</td>\n      <td>34618.00</td>\n    </tr>\n    <tr>\n      <th>9937</th>\n      <td>2913123</td>\n      <td>29982.00</td>\n    </tr>\n    <tr>\n      <th>9938</th>\n      <td>2913132</td>\n      <td>6664.00</td>\n    </tr>\n  </tbody>\n</table>\n<p>9939 rows × 2 columns</p>\n</div>"
     },
     "metadata": {},
     "execution_count": 62
    }
   ],
   "source": [
    "group_mv = group_mv.reset_index()\n",
    "group_mv"
   ]
  },
  {
   "cell_type": "code",
   "execution_count": 63,
   "metadata": {},
   "outputs": [
    {
     "output_type": "execute_result",
     "data": {
      "text/plain": "      CustomerID    Y  Recency  Frequency    tmp  SummAfterPointsUsage\n0        2898197  1.0      0.0   5.042017  140.0              51591.00\n1        2767598  1.0     85.0   2.157534   63.0              13738.01\n2        2910374  1.0      1.0  28.145455  774.0             347117.50\n3        2743625  1.0      2.0   4.338154  130.0              34004.00\n4        2751226  1.0    136.0   0.437220   13.0               2552.00\n...          ...  ...      ...        ...    ...                   ...\n9995     2904785  0.0    693.0   0.253317    7.0               3694.00\n9996     2832618  0.0     84.0   2.222222    8.0               3400.00\n9997     2751028  0.0    883.0   0.101351    3.0                735.00\n9998     2889022  0.0    306.0   0.502793    6.0               1233.00\n9999     2744732  0.0    501.0   6.956522  208.0              33999.00\n\n[10000 rows x 6 columns]",
      "text/html": "<div>\n<style scoped>\n    .dataframe tbody tr th:only-of-type {\n        vertical-align: middle;\n    }\n\n    .dataframe tbody tr th {\n        vertical-align: top;\n    }\n\n    .dataframe thead th {\n        text-align: right;\n    }\n</style>\n<table border=\"1\" class=\"dataframe\">\n  <thead>\n    <tr style=\"text-align: right;\">\n      <th></th>\n      <th>CustomerID</th>\n      <th>Y</th>\n      <th>Recency</th>\n      <th>Frequency</th>\n      <th>tmp</th>\n      <th>SummAfterPointsUsage</th>\n    </tr>\n  </thead>\n  <tbody>\n    <tr>\n      <th>0</th>\n      <td>2898197</td>\n      <td>1.0</td>\n      <td>0.0</td>\n      <td>5.042017</td>\n      <td>140.0</td>\n      <td>51591.00</td>\n    </tr>\n    <tr>\n      <th>1</th>\n      <td>2767598</td>\n      <td>1.0</td>\n      <td>85.0</td>\n      <td>2.157534</td>\n      <td>63.0</td>\n      <td>13738.01</td>\n    </tr>\n    <tr>\n      <th>2</th>\n      <td>2910374</td>\n      <td>1.0</td>\n      <td>1.0</td>\n      <td>28.145455</td>\n      <td>774.0</td>\n      <td>347117.50</td>\n    </tr>\n    <tr>\n      <th>3</th>\n      <td>2743625</td>\n      <td>1.0</td>\n      <td>2.0</td>\n      <td>4.338154</td>\n      <td>130.0</td>\n      <td>34004.00</td>\n    </tr>\n    <tr>\n      <th>4</th>\n      <td>2751226</td>\n      <td>1.0</td>\n      <td>136.0</td>\n      <td>0.437220</td>\n      <td>13.0</td>\n      <td>2552.00</td>\n    </tr>\n    <tr>\n      <th>...</th>\n      <td>...</td>\n      <td>...</td>\n      <td>...</td>\n      <td>...</td>\n      <td>...</td>\n      <td>...</td>\n    </tr>\n    <tr>\n      <th>9995</th>\n      <td>2904785</td>\n      <td>0.0</td>\n      <td>693.0</td>\n      <td>0.253317</td>\n      <td>7.0</td>\n      <td>3694.00</td>\n    </tr>\n    <tr>\n      <th>9996</th>\n      <td>2832618</td>\n      <td>0.0</td>\n      <td>84.0</td>\n      <td>2.222222</td>\n      <td>8.0</td>\n      <td>3400.00</td>\n    </tr>\n    <tr>\n      <th>9997</th>\n      <td>2751028</td>\n      <td>0.0</td>\n      <td>883.0</td>\n      <td>0.101351</td>\n      <td>3.0</td>\n      <td>735.00</td>\n    </tr>\n    <tr>\n      <th>9998</th>\n      <td>2889022</td>\n      <td>0.0</td>\n      <td>306.0</td>\n      <td>0.502793</td>\n      <td>6.0</td>\n      <td>1233.00</td>\n    </tr>\n    <tr>\n      <th>9999</th>\n      <td>2744732</td>\n      <td>0.0</td>\n      <td>501.0</td>\n      <td>6.956522</td>\n      <td>208.0</td>\n      <td>33999.00</td>\n    </tr>\n  </tbody>\n</table>\n<p>10000 rows × 6 columns</p>\n</div>"
     },
     "metadata": {},
     "execution_count": 63
    }
   ],
   "source": [
    "new_df = pd.merge(new_df, group_mv, how = 'outer', on = 'CustomerID')\n",
    "new_df = new_df.fillna(0.0)\n",
    "new_df"
   ]
  },
  {
   "cell_type": "code",
   "execution_count": 64,
   "metadata": {},
   "outputs": [
    {
     "output_type": "execute_result",
     "data": {
      "text/plain": "      CustomerID    Y  Recency  Frequency    tmp  SummAfterPointsUsage  \\\n0        2898197  1.0      0.0   5.042017  140.0              51591.00   \n1        2767598  1.0     85.0   2.157534   63.0              13738.01   \n2        2910374  1.0      1.0  28.145455  774.0             347117.50   \n3        2743625  1.0      2.0   4.338154  130.0              34004.00   \n4        2751226  1.0    136.0   0.437220   13.0               2552.00   \n...          ...  ...      ...        ...    ...                   ...   \n9995     2904785  0.0    693.0   0.253317    7.0               3694.00   \n9996     2832618  0.0     84.0   2.222222    8.0               3400.00   \n9997     2751028  0.0    883.0   0.101351    3.0                735.00   \n9998     2889022  0.0    306.0   0.502793    6.0               1233.00   \n9999     2744732  0.0    501.0   6.956522  208.0              33999.00   \n\n      Monetary Value  \n0         368.507143  \n1         218.063651  \n2         448.472222  \n3         261.569231  \n4         196.307692  \n...              ...  \n9995      527.714286  \n9996      425.000000  \n9997      245.000000  \n9998      205.500000  \n9999      163.456731  \n\n[10000 rows x 7 columns]",
      "text/html": "<div>\n<style scoped>\n    .dataframe tbody tr th:only-of-type {\n        vertical-align: middle;\n    }\n\n    .dataframe tbody tr th {\n        vertical-align: top;\n    }\n\n    .dataframe thead th {\n        text-align: right;\n    }\n</style>\n<table border=\"1\" class=\"dataframe\">\n  <thead>\n    <tr style=\"text-align: right;\">\n      <th></th>\n      <th>CustomerID</th>\n      <th>Y</th>\n      <th>Recency</th>\n      <th>Frequency</th>\n      <th>tmp</th>\n      <th>SummAfterPointsUsage</th>\n      <th>Monetary Value</th>\n    </tr>\n  </thead>\n  <tbody>\n    <tr>\n      <th>0</th>\n      <td>2898197</td>\n      <td>1.0</td>\n      <td>0.0</td>\n      <td>5.042017</td>\n      <td>140.0</td>\n      <td>51591.00</td>\n      <td>368.507143</td>\n    </tr>\n    <tr>\n      <th>1</th>\n      <td>2767598</td>\n      <td>1.0</td>\n      <td>85.0</td>\n      <td>2.157534</td>\n      <td>63.0</td>\n      <td>13738.01</td>\n      <td>218.063651</td>\n    </tr>\n    <tr>\n      <th>2</th>\n      <td>2910374</td>\n      <td>1.0</td>\n      <td>1.0</td>\n      <td>28.145455</td>\n      <td>774.0</td>\n      <td>347117.50</td>\n      <td>448.472222</td>\n    </tr>\n    <tr>\n      <th>3</th>\n      <td>2743625</td>\n      <td>1.0</td>\n      <td>2.0</td>\n      <td>4.338154</td>\n      <td>130.0</td>\n      <td>34004.00</td>\n      <td>261.569231</td>\n    </tr>\n    <tr>\n      <th>4</th>\n      <td>2751226</td>\n      <td>1.0</td>\n      <td>136.0</td>\n      <td>0.437220</td>\n      <td>13.0</td>\n      <td>2552.00</td>\n      <td>196.307692</td>\n    </tr>\n    <tr>\n      <th>...</th>\n      <td>...</td>\n      <td>...</td>\n      <td>...</td>\n      <td>...</td>\n      <td>...</td>\n      <td>...</td>\n      <td>...</td>\n    </tr>\n    <tr>\n      <th>9995</th>\n      <td>2904785</td>\n      <td>0.0</td>\n      <td>693.0</td>\n      <td>0.253317</td>\n      <td>7.0</td>\n      <td>3694.00</td>\n      <td>527.714286</td>\n    </tr>\n    <tr>\n      <th>9996</th>\n      <td>2832618</td>\n      <td>0.0</td>\n      <td>84.0</td>\n      <td>2.222222</td>\n      <td>8.0</td>\n      <td>3400.00</td>\n      <td>425.000000</td>\n    </tr>\n    <tr>\n      <th>9997</th>\n      <td>2751028</td>\n      <td>0.0</td>\n      <td>883.0</td>\n      <td>0.101351</td>\n      <td>3.0</td>\n      <td>735.00</td>\n      <td>245.000000</td>\n    </tr>\n    <tr>\n      <th>9998</th>\n      <td>2889022</td>\n      <td>0.0</td>\n      <td>306.0</td>\n      <td>0.502793</td>\n      <td>6.0</td>\n      <td>1233.00</td>\n      <td>205.500000</td>\n    </tr>\n    <tr>\n      <th>9999</th>\n      <td>2744732</td>\n      <td>0.0</td>\n      <td>501.0</td>\n      <td>6.956522</td>\n      <td>208.0</td>\n      <td>33999.00</td>\n      <td>163.456731</td>\n    </tr>\n  </tbody>\n</table>\n<p>10000 rows × 7 columns</p>\n</div>"
     },
     "metadata": {},
     "execution_count": 64
    }
   ],
   "source": [
    "new_df[\"Monetary Value\"] = new_df.SummAfterPointsUsage / new_df.tmp\n",
    "new_df"
   ]
  },
  {
   "cell_type": "code",
   "execution_count": 65,
   "metadata": {},
   "outputs": [
    {
     "output_type": "execute_result",
     "data": {
      "text/plain": "      CustomerID    Y  Recency  Frequency  Monetary Value\n0        2898197  1.0      0.0   5.042017      368.507143\n1        2767598  1.0     85.0   2.157534      218.063651\n2        2910374  1.0      1.0  28.145455      448.472222\n3        2743625  1.0      2.0   4.338154      261.569231\n4        2751226  1.0    136.0   0.437220      196.307692\n...          ...  ...      ...        ...             ...\n9995     2904785  0.0    693.0   0.253317      527.714286\n9996     2832618  0.0     84.0   2.222222      425.000000\n9997     2751028  0.0    883.0   0.101351      245.000000\n9998     2889022  0.0    306.0   0.502793      205.500000\n9999     2744732  0.0    501.0   6.956522      163.456731\n\n[10000 rows x 5 columns]",
      "text/html": "<div>\n<style scoped>\n    .dataframe tbody tr th:only-of-type {\n        vertical-align: middle;\n    }\n\n    .dataframe tbody tr th {\n        vertical-align: top;\n    }\n\n    .dataframe thead th {\n        text-align: right;\n    }\n</style>\n<table border=\"1\" class=\"dataframe\">\n  <thead>\n    <tr style=\"text-align: right;\">\n      <th></th>\n      <th>CustomerID</th>\n      <th>Y</th>\n      <th>Recency</th>\n      <th>Frequency</th>\n      <th>Monetary Value</th>\n    </tr>\n  </thead>\n  <tbody>\n    <tr>\n      <th>0</th>\n      <td>2898197</td>\n      <td>1.0</td>\n      <td>0.0</td>\n      <td>5.042017</td>\n      <td>368.507143</td>\n    </tr>\n    <tr>\n      <th>1</th>\n      <td>2767598</td>\n      <td>1.0</td>\n      <td>85.0</td>\n      <td>2.157534</td>\n      <td>218.063651</td>\n    </tr>\n    <tr>\n      <th>2</th>\n      <td>2910374</td>\n      <td>1.0</td>\n      <td>1.0</td>\n      <td>28.145455</td>\n      <td>448.472222</td>\n    </tr>\n    <tr>\n      <th>3</th>\n      <td>2743625</td>\n      <td>1.0</td>\n      <td>2.0</td>\n      <td>4.338154</td>\n      <td>261.569231</td>\n    </tr>\n    <tr>\n      <th>4</th>\n      <td>2751226</td>\n      <td>1.0</td>\n      <td>136.0</td>\n      <td>0.437220</td>\n      <td>196.307692</td>\n    </tr>\n    <tr>\n      <th>...</th>\n      <td>...</td>\n      <td>...</td>\n      <td>...</td>\n      <td>...</td>\n      <td>...</td>\n    </tr>\n    <tr>\n      <th>9995</th>\n      <td>2904785</td>\n      <td>0.0</td>\n      <td>693.0</td>\n      <td>0.253317</td>\n      <td>527.714286</td>\n    </tr>\n    <tr>\n      <th>9996</th>\n      <td>2832618</td>\n      <td>0.0</td>\n      <td>84.0</td>\n      <td>2.222222</td>\n      <td>425.000000</td>\n    </tr>\n    <tr>\n      <th>9997</th>\n      <td>2751028</td>\n      <td>0.0</td>\n      <td>883.0</td>\n      <td>0.101351</td>\n      <td>245.000000</td>\n    </tr>\n    <tr>\n      <th>9998</th>\n      <td>2889022</td>\n      <td>0.0</td>\n      <td>306.0</td>\n      <td>0.502793</td>\n      <td>205.500000</td>\n    </tr>\n    <tr>\n      <th>9999</th>\n      <td>2744732</td>\n      <td>0.0</td>\n      <td>501.0</td>\n      <td>6.956522</td>\n      <td>163.456731</td>\n    </tr>\n  </tbody>\n</table>\n<p>10000 rows × 5 columns</p>\n</div>"
     },
     "metadata": {},
     "execution_count": 65
    }
   ],
   "source": [
    "new_df = new_df.fillna(0.0)\n",
    "new_df = new_df[['CustomerID', 'Y', 'Recency', 'Frequency', 'Monetary Value']]\n",
    "new_df"
   ]
  },
  {
   "cell_type": "code",
   "execution_count": 66,
   "metadata": {},
   "outputs": [
    {
     "output_type": "execute_result",
     "data": {
      "text/plain": "      CustomerID    Age     Sex\n0        2728183   21.0  Female\n1        2728198   21.0  Female\n2        2728306   21.0  Female\n3        2728178   22.0    Male\n4        2728322   22.0    Male\n...          ...    ...     ...\n9995     2912655   49.0  Female\n9996     2912502   52.0    Male\n9997     2912767   52.0    Male\n9998     2912383   60.0    Male\n9999     2912304  118.0     NaN\n\n[10000 rows x 3 columns]",
      "text/html": "<div>\n<style scoped>\n    .dataframe tbody tr th:only-of-type {\n        vertical-align: middle;\n    }\n\n    .dataframe tbody tr th {\n        vertical-align: top;\n    }\n\n    .dataframe thead th {\n        text-align: right;\n    }\n</style>\n<table border=\"1\" class=\"dataframe\">\n  <thead>\n    <tr style=\"text-align: right;\">\n      <th></th>\n      <th>CustomerID</th>\n      <th>Age</th>\n      <th>Sex</th>\n    </tr>\n  </thead>\n  <tbody>\n    <tr>\n      <th>0</th>\n      <td>2728183</td>\n      <td>21.0</td>\n      <td>Female</td>\n    </tr>\n    <tr>\n      <th>1</th>\n      <td>2728198</td>\n      <td>21.0</td>\n      <td>Female</td>\n    </tr>\n    <tr>\n      <th>2</th>\n      <td>2728306</td>\n      <td>21.0</td>\n      <td>Female</td>\n    </tr>\n    <tr>\n      <th>3</th>\n      <td>2728178</td>\n      <td>22.0</td>\n      <td>Male</td>\n    </tr>\n    <tr>\n      <th>4</th>\n      <td>2728322</td>\n      <td>22.0</td>\n      <td>Male</td>\n    </tr>\n    <tr>\n      <th>...</th>\n      <td>...</td>\n      <td>...</td>\n      <td>...</td>\n    </tr>\n    <tr>\n      <th>9995</th>\n      <td>2912655</td>\n      <td>49.0</td>\n      <td>Female</td>\n    </tr>\n    <tr>\n      <th>9996</th>\n      <td>2912502</td>\n      <td>52.0</td>\n      <td>Male</td>\n    </tr>\n    <tr>\n      <th>9997</th>\n      <td>2912767</td>\n      <td>52.0</td>\n      <td>Male</td>\n    </tr>\n    <tr>\n      <th>9998</th>\n      <td>2912383</td>\n      <td>60.0</td>\n      <td>Male</td>\n    </tr>\n    <tr>\n      <th>9999</th>\n      <td>2912304</td>\n      <td>118.0</td>\n      <td>NaN</td>\n    </tr>\n  </tbody>\n</table>\n<p>10000 rows × 3 columns</p>\n</div>"
     },
     "metadata": {},
     "execution_count": 66
    }
   ],
   "source": [
    "mcos = cos[['CustomerID', 'Age', 'Sex']]\n",
    "mcos"
   ]
  },
  {
   "cell_type": "code",
   "execution_count": 67,
   "metadata": {},
   "outputs": [
    {
     "output_type": "execute_result",
     "data": {
      "text/plain": "      CustomerID    Age     Sex\n0        2728183   21.0  Female\n1        2728198   21.0  Female\n2        2728306   21.0  Female\n3        2728178   22.0    Male\n4        2728322   22.0    Male\n...          ...    ...     ...\n9995     2912655   49.0  Female\n9996     2912502   52.0    Male\n9997     2912767   52.0    Male\n9998     2912383   60.0    Male\n9999     2912304  118.0    Male\n\n[10000 rows x 3 columns]",
      "text/html": "<div>\n<style scoped>\n    .dataframe tbody tr th:only-of-type {\n        vertical-align: middle;\n    }\n\n    .dataframe tbody tr th {\n        vertical-align: top;\n    }\n\n    .dataframe thead th {\n        text-align: right;\n    }\n</style>\n<table border=\"1\" class=\"dataframe\">\n  <thead>\n    <tr style=\"text-align: right;\">\n      <th></th>\n      <th>CustomerID</th>\n      <th>Age</th>\n      <th>Sex</th>\n    </tr>\n  </thead>\n  <tbody>\n    <tr>\n      <th>0</th>\n      <td>2728183</td>\n      <td>21.0</td>\n      <td>Female</td>\n    </tr>\n    <tr>\n      <th>1</th>\n      <td>2728198</td>\n      <td>21.0</td>\n      <td>Female</td>\n    </tr>\n    <tr>\n      <th>2</th>\n      <td>2728306</td>\n      <td>21.0</td>\n      <td>Female</td>\n    </tr>\n    <tr>\n      <th>3</th>\n      <td>2728178</td>\n      <td>22.0</td>\n      <td>Male</td>\n    </tr>\n    <tr>\n      <th>4</th>\n      <td>2728322</td>\n      <td>22.0</td>\n      <td>Male</td>\n    </tr>\n    <tr>\n      <th>...</th>\n      <td>...</td>\n      <td>...</td>\n      <td>...</td>\n    </tr>\n    <tr>\n      <th>9995</th>\n      <td>2912655</td>\n      <td>49.0</td>\n      <td>Female</td>\n    </tr>\n    <tr>\n      <th>9996</th>\n      <td>2912502</td>\n      <td>52.0</td>\n      <td>Male</td>\n    </tr>\n    <tr>\n      <th>9997</th>\n      <td>2912767</td>\n      <td>52.0</td>\n      <td>Male</td>\n    </tr>\n    <tr>\n      <th>9998</th>\n      <td>2912383</td>\n      <td>60.0</td>\n      <td>Male</td>\n    </tr>\n    <tr>\n      <th>9999</th>\n      <td>2912304</td>\n      <td>118.0</td>\n      <td>Male</td>\n    </tr>\n  </tbody>\n</table>\n<p>10000 rows × 3 columns</p>\n</div>"
     },
     "metadata": {},
     "execution_count": 67
    }
   ],
   "source": [
    "mcos.Sex = mcos.Sex.fillna('Male')\n",
    "mcos"
   ]
  },
  {
   "cell_type": "code",
   "execution_count": 68,
   "metadata": {},
   "outputs": [
    {
     "output_type": "execute_result",
     "data": {
      "text/plain": "      CustomerID    Age     Sex\n0        2728183   21.0  Female\n1        2728198   21.0  Female\n2        2728306   21.0  Female\n3        2728178   22.0    Male\n4        2728322   22.0    Male\n...          ...    ...     ...\n9995     2912655   49.0  Female\n9996     2912502   52.0    Male\n9997     2912767   52.0    Male\n9998     2912383   60.0    Male\n9999     2912304  118.0    Male\n\n[10000 rows x 3 columns]",
      "text/html": "<div>\n<style scoped>\n    .dataframe tbody tr th:only-of-type {\n        vertical-align: middle;\n    }\n\n    .dataframe tbody tr th {\n        vertical-align: top;\n    }\n\n    .dataframe thead th {\n        text-align: right;\n    }\n</style>\n<table border=\"1\" class=\"dataframe\">\n  <thead>\n    <tr style=\"text-align: right;\">\n      <th></th>\n      <th>CustomerID</th>\n      <th>Age</th>\n      <th>Sex</th>\n    </tr>\n  </thead>\n  <tbody>\n    <tr>\n      <th>0</th>\n      <td>2728183</td>\n      <td>21.0</td>\n      <td>Female</td>\n    </tr>\n    <tr>\n      <th>1</th>\n      <td>2728198</td>\n      <td>21.0</td>\n      <td>Female</td>\n    </tr>\n    <tr>\n      <th>2</th>\n      <td>2728306</td>\n      <td>21.0</td>\n      <td>Female</td>\n    </tr>\n    <tr>\n      <th>3</th>\n      <td>2728178</td>\n      <td>22.0</td>\n      <td>Male</td>\n    </tr>\n    <tr>\n      <th>4</th>\n      <td>2728322</td>\n      <td>22.0</td>\n      <td>Male</td>\n    </tr>\n    <tr>\n      <th>...</th>\n      <td>...</td>\n      <td>...</td>\n      <td>...</td>\n    </tr>\n    <tr>\n      <th>9995</th>\n      <td>2912655</td>\n      <td>49.0</td>\n      <td>Female</td>\n    </tr>\n    <tr>\n      <th>9996</th>\n      <td>2912502</td>\n      <td>52.0</td>\n      <td>Male</td>\n    </tr>\n    <tr>\n      <th>9997</th>\n      <td>2912767</td>\n      <td>52.0</td>\n      <td>Male</td>\n    </tr>\n    <tr>\n      <th>9998</th>\n      <td>2912383</td>\n      <td>60.0</td>\n      <td>Male</td>\n    </tr>\n    <tr>\n      <th>9999</th>\n      <td>2912304</td>\n      <td>118.0</td>\n      <td>Male</td>\n    </tr>\n  </tbody>\n</table>\n<p>10000 rows × 3 columns</p>\n</div>"
     },
     "metadata": {},
     "execution_count": 68
    }
   ],
   "source": [
    "mcos.Age = mcos.Age.fillna(mcos.Age.mean())\n",
    "mcos"
   ]
  },
  {
   "cell_type": "code",
   "execution_count": 69,
   "metadata": {},
   "outputs": [
    {
     "output_type": "execute_result",
     "data": {
      "text/plain": "      CustomerID    Y  Recency  Frequency  Monetary Value   Age     Sex\n0        2898197  1.0      0.0   5.042017      368.507143  33.0  Female\n1        2767598  1.0     85.0   2.157534      218.063651  29.0    Male\n2        2910374  1.0      1.0  28.145455      448.472222  60.0    Male\n3        2743625  1.0      2.0   4.338154      261.569231  40.0    Male\n4        2751226  1.0    136.0   0.437220      196.307692  46.0    Male\n...          ...  ...      ...        ...             ...   ...     ...\n9995     2904785  0.0    693.0   0.253317      527.714286  22.0    Male\n9996     2832618  0.0     84.0   2.222222      425.000000  21.0    Male\n9997     2751028  0.0    883.0   0.101351      245.000000  32.0  Female\n9998     2889022  0.0    306.0   0.502793      205.500000  29.0  Female\n9999     2744732  0.0    501.0   6.956522      163.456731  50.0    Male\n\n[10000 rows x 7 columns]",
      "text/html": "<div>\n<style scoped>\n    .dataframe tbody tr th:only-of-type {\n        vertical-align: middle;\n    }\n\n    .dataframe tbody tr th {\n        vertical-align: top;\n    }\n\n    .dataframe thead th {\n        text-align: right;\n    }\n</style>\n<table border=\"1\" class=\"dataframe\">\n  <thead>\n    <tr style=\"text-align: right;\">\n      <th></th>\n      <th>CustomerID</th>\n      <th>Y</th>\n      <th>Recency</th>\n      <th>Frequency</th>\n      <th>Monetary Value</th>\n      <th>Age</th>\n      <th>Sex</th>\n    </tr>\n  </thead>\n  <tbody>\n    <tr>\n      <th>0</th>\n      <td>2898197</td>\n      <td>1.0</td>\n      <td>0.0</td>\n      <td>5.042017</td>\n      <td>368.507143</td>\n      <td>33.0</td>\n      <td>Female</td>\n    </tr>\n    <tr>\n      <th>1</th>\n      <td>2767598</td>\n      <td>1.0</td>\n      <td>85.0</td>\n      <td>2.157534</td>\n      <td>218.063651</td>\n      <td>29.0</td>\n      <td>Male</td>\n    </tr>\n    <tr>\n      <th>2</th>\n      <td>2910374</td>\n      <td>1.0</td>\n      <td>1.0</td>\n      <td>28.145455</td>\n      <td>448.472222</td>\n      <td>60.0</td>\n      <td>Male</td>\n    </tr>\n    <tr>\n      <th>3</th>\n      <td>2743625</td>\n      <td>1.0</td>\n      <td>2.0</td>\n      <td>4.338154</td>\n      <td>261.569231</td>\n      <td>40.0</td>\n      <td>Male</td>\n    </tr>\n    <tr>\n      <th>4</th>\n      <td>2751226</td>\n      <td>1.0</td>\n      <td>136.0</td>\n      <td>0.437220</td>\n      <td>196.307692</td>\n      <td>46.0</td>\n      <td>Male</td>\n    </tr>\n    <tr>\n      <th>...</th>\n      <td>...</td>\n      <td>...</td>\n      <td>...</td>\n      <td>...</td>\n      <td>...</td>\n      <td>...</td>\n      <td>...</td>\n    </tr>\n    <tr>\n      <th>9995</th>\n      <td>2904785</td>\n      <td>0.0</td>\n      <td>693.0</td>\n      <td>0.253317</td>\n      <td>527.714286</td>\n      <td>22.0</td>\n      <td>Male</td>\n    </tr>\n    <tr>\n      <th>9996</th>\n      <td>2832618</td>\n      <td>0.0</td>\n      <td>84.0</td>\n      <td>2.222222</td>\n      <td>425.000000</td>\n      <td>21.0</td>\n      <td>Male</td>\n    </tr>\n    <tr>\n      <th>9997</th>\n      <td>2751028</td>\n      <td>0.0</td>\n      <td>883.0</td>\n      <td>0.101351</td>\n      <td>245.000000</td>\n      <td>32.0</td>\n      <td>Female</td>\n    </tr>\n    <tr>\n      <th>9998</th>\n      <td>2889022</td>\n      <td>0.0</td>\n      <td>306.0</td>\n      <td>0.502793</td>\n      <td>205.500000</td>\n      <td>29.0</td>\n      <td>Female</td>\n    </tr>\n    <tr>\n      <th>9999</th>\n      <td>2744732</td>\n      <td>0.0</td>\n      <td>501.0</td>\n      <td>6.956522</td>\n      <td>163.456731</td>\n      <td>50.0</td>\n      <td>Male</td>\n    </tr>\n  </tbody>\n</table>\n<p>10000 rows × 7 columns</p>\n</div>"
     },
     "metadata": {},
     "execution_count": 69
    }
   ],
   "source": [
    "new_df = pd.merge(new_df, mcos, how = 'inner', on = 'CustomerID')\n",
    "new_df = new_df.fillna(0.0)\n",
    "new_df"
   ]
  },
  {
   "cell_type": "code",
   "execution_count": null,
   "metadata": {},
   "outputs": [],
   "source": []
  }
 ]
}